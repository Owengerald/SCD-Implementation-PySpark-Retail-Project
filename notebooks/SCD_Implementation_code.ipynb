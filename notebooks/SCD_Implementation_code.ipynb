{
 "cells": [
  {
   "cell_type": "code",
   "execution_count": 45,
   "id": "526ac871",
   "metadata": {},
   "outputs": [],
   "source": [
    "from pyspark.sql.functions import * \n",
    "from pyspark.sql.window import Window\n",
    "from pyspark.sql import SparkSession"
   ]
  },
  {
   "cell_type": "code",
   "execution_count": 46,
   "id": "53998375",
   "metadata": {},
   "outputs": [],
   "source": [
    "spark = SparkSession.builder \\\n",
    "        .appName(\"SCD Implementation application\") \\\n",
    "        .config(\"spark.sql.shuffle.partitions\",3) \\\n",
    "        .master(\"local[2]\") \\\n",
    "        .getOrCreate()"
   ]
  },
  {
   "cell_type": "code",
   "execution_count": 47,
   "id": "a5c3636d",
   "metadata": {},
   "outputs": [],
   "source": [
    "DATE_FORMAT = \"yyyy-MM-dd\"\n",
    "future_date = \"9999-12-31\"\n",
    "source_url = \"../data/source/\"\n",
    "destination_url = \"../data/target/\"\n",
    "primary_key = [\"customerid\"]\n",
    "slowly_changing_cols = [ \"email\", \"phone\", \"address\", \"city\", \"state\", \"zipcode\"]\n",
    "implementation_cols = [\"effective_date\", \"end_date\", \"active_flag\"]"
   ]
  },
  {
   "cell_type": "code",
   "execution_count": 48,
   "id": "76962498",
   "metadata": {},
   "outputs": [],
   "source": [
    "customers_source_schema = \"customerid long,firstname string, lastname string, email string, phone string, address string, city string, state string, zipcode long\""
   ]
  },
  {
   "cell_type": "code",
   "execution_count": 49,
   "id": "e58dd178",
   "metadata": {},
   "outputs": [],
   "source": [
    "customers_target_schema = \"customerid long,firstname string, lastname string, email string, phone string, address string, city string, state string, zipcode long, customer_skey long, effective_date date, end_date date, active_flag boolean\""
   ]
  },
  {
   "cell_type": "code",
   "execution_count": 50,
   "id": "806d0838",
   "metadata": {},
   "outputs": [],
   "source": [
    "customers_source_df = spark.read \\\n",
    ".format(\"csv\") \\\n",
    ".option(\"header\",True) \\\n",
    ".schema(customers_source_schema) \\\n",
    ".load(source_url)"
   ]
  },
  {
   "cell_type": "code",
   "execution_count": 51,
   "id": "fe664a51",
   "metadata": {},
   "outputs": [
    {
     "name": "stdout",
     "output_type": "stream",
     "text": [
      "+----------+-----------+---------+---------+---------+--------------------+-------------+-----+-------+\n",
      "|customerid|  firstname| lastname|    email|    phone|             address|         city|state|zipcode|\n",
      "+----------+-----------+---------+---------+---------+--------------------+-------------+-----+-------+\n",
      "|         1|    Richard|Hernandez|XXXXXXXXX|XXXXXXXXX|  6303 Heather Plaza|  Brownsville|   TX|  78521|\n",
      "|         2|       Mary|  Barrett|XXXXXXXXX|XXXXXXXXX|9526 Noble Embers...|    Littleton|   CO|  80126|\n",
      "|         3|        Ann|    Smith|XXXXXXXXX|XXXXXXXXX|3422 Blue Pioneer...|       Caguas|   PR|    725|\n",
      "|         4|       Mary|    Jones|XXXXXXXXX|XXXXXXXXX|  8324 Little Common|   San Marcos|   CA|  92069|\n",
      "|         5|     Robert|   Hudson|XXXXXXXXX|XXXXXXXXX|10 Crystal River ...|       Caguas|   PR|    725|\n",
      "|         6|       Mary|    Smith|XXXXXXXXX|XXXXXXXXX|3151 Sleepy Quail...|      Passaic|   NJ|   7055|\n",
      "|         7|    Melissa|   Wilcox|XXXXXXXXX|XXXXXXXXX|9453 High Concession|       Caguas|   PR|    725|\n",
      "|        10|    Melissa|    Smith|XXXXXXXXX|XXXXXXXXX|8598 Harvest Beac...|     Stafford|   VA|  22554|\n",
      "|        11|       Mary|  Huffman|XXXXXXXXX|XXXXXXXXX|    3169 Stony Woods|       Caguas|   PR|    725|\n",
      "|        12|Christopher|    Smith|XXXXXXXXX|XXXXXXXXX|5594 Jagged Ember...|  San Antonio|   TX|  78227|\n",
      "|        13|       Mary|  Baldwin|XXXXXXXXX|XXXXXXXXX|7922 Iron Oak Gar...|       Caguas|   PR|    725|\n",
      "|        14|  Katherine|    Smith|XXXXXXXXX|XXXXXXXXX|5666 Hazy Pony Sq...|  Pico Rivera|   CA|  90660|\n",
      "|        15|       Jane|     Luna|XXXXXXXXX|XXXXXXXXX|    673 Burning Glen|      Fontana|   CA|  92336|\n",
      "|        16|    Tiffany|    Smith|XXXXXXXXX|XXXXXXXXX|      6651 Iron Port|       Caguas|   PR|    725|\n",
      "|        17|       Mary| Robinson|XXXXXXXXX|XXXXXXXXX|     1325 Noble Pike|       Taylor|   MI|  48180|\n",
      "|        18|     Robert|    Smith|XXXXXXXXX|XXXXXXXXX|2734 Hazy Butterf...|     Martinez|   CA|  94553|\n",
      "|        19|  Stephanie| Mitchell|XXXXXXXXX|XXXXXXXXX|3543 Red Treasure...|       Caguas|   PR|    725|\n",
      "|        20|       Mary|    Ellis|XXXXXXXXX|XXXXXXXXX|      4703 Old Route|West New York|   NJ|   7093|\n",
      "|        21|    William|Zimmerman|XXXXXXXXX|XXXXXXXXX|3323 Old Willow M...|       Caguas|   PR|    725|\n",
      "|        22|     Joseph|    Smith|XXXXXXXXX|XXXXXXXXX|7740 Broad Fox Vi...| North Bergen|   NJ|   7047|\n",
      "+----------+-----------+---------+---------+---------+--------------------+-------------+-----+-------+\n",
      "only showing top 20 rows\n",
      "\n"
     ]
    }
   ],
   "source": [
    "customers_source_df.show()"
   ]
  },
  {
   "cell_type": "code",
   "execution_count": 52,
   "id": "d0867654",
   "metadata": {},
   "outputs": [],
   "source": [
    "window_def = Window.orderBy(\"customerid\")"
   ]
  },
  {
   "cell_type": "code",
   "execution_count": 54,
   "id": "0d864748",
   "metadata": {},
   "outputs": [],
   "source": [
    "enhanced_customers_source_df = spark.read \\\n",
    ".format(\"csv\") \\\n",
    ".option(\"header\",True) \\\n",
    ".schema(customers_source_schema) \\\n",
    ".load(source_url) \\\n",
    ".withColumn(\"customer_skey\", row_number().over(window_def)) \\\n",
    ".withColumn(\"effective_date\", date_format(current_date(), DATE_FORMAT)) \\\n",
    ".withColumn(\"end_date\", date_format(lit(future_date), DATE_FORMAT)) \\\n",
    ".withColumn(\"active_flag\", lit(True))"
   ]
  },
  {
   "cell_type": "code",
   "execution_count": 55,
   "id": "132db1af",
   "metadata": {},
   "outputs": [
    {
     "name": "stdout",
     "output_type": "stream",
     "text": [
      "+----------+-----------+---------+---------+---------+--------------------+-------------+-----+-------+-------------+--------------+----------+-----------+\n",
      "|customerid|  firstname| lastname|    email|    phone|             address|         city|state|zipcode|customer_skey|effective_date|  end_date|active_flag|\n",
      "+----------+-----------+---------+---------+---------+--------------------+-------------+-----+-------+-------------+--------------+----------+-----------+\n",
      "|         1|    Richard|Hernandez|XXXXXXXXX|XXXXXXXXX|  6303 Heather Plaza|  Brownsville|   TX|  78521|            1|    2024-07-28|9999-12-31|       true|\n",
      "|         2|       Mary|  Barrett|XXXXXXXXX|XXXXXXXXX|9526 Noble Embers...|    Littleton|   CO|  80126|            2|    2024-07-28|9999-12-31|       true|\n",
      "|         3|        Ann|    Smith|XXXXXXXXX|XXXXXXXXX|3422 Blue Pioneer...|       Caguas|   PR|    725|            3|    2024-07-28|9999-12-31|       true|\n",
      "|         4|       Mary|    Jones|XXXXXXXXX|XXXXXXXXX|  8324 Little Common|   San Marcos|   CA|  92069|            4|    2024-07-28|9999-12-31|       true|\n",
      "|         5|     Robert|   Hudson|XXXXXXXXX|XXXXXXXXX|10 Crystal River ...|       Caguas|   PR|    725|            5|    2024-07-28|9999-12-31|       true|\n",
      "|         6|       Mary|    Smith|XXXXXXXXX|XXXXXXXXX|3151 Sleepy Quail...|      Passaic|   NJ|   7055|            6|    2024-07-28|9999-12-31|       true|\n",
      "|         7|    Melissa|   Wilcox|XXXXXXXXX|XXXXXXXXX|9453 High Concession|       Caguas|   PR|    725|            7|    2024-07-28|9999-12-31|       true|\n",
      "|        10|    Melissa|    Smith|XXXXXXXXX|XXXXXXXXX|8598 Harvest Beac...|     Stafford|   VA|  22554|            8|    2024-07-28|9999-12-31|       true|\n",
      "|        11|       Mary|  Huffman|XXXXXXXXX|XXXXXXXXX|    3169 Stony Woods|       Caguas|   PR|    725|            9|    2024-07-28|9999-12-31|       true|\n",
      "|        12|Christopher|    Smith|XXXXXXXXX|XXXXXXXXX|5594 Jagged Ember...|  San Antonio|   TX|  78227|           10|    2024-07-28|9999-12-31|       true|\n",
      "|        13|       Mary|  Baldwin|XXXXXXXXX|XXXXXXXXX|7922 Iron Oak Gar...|       Caguas|   PR|    725|           11|    2024-07-28|9999-12-31|       true|\n",
      "|        14|  Katherine|    Smith|XXXXXXXXX|XXXXXXXXX|5666 Hazy Pony Sq...|  Pico Rivera|   CA|  90660|           12|    2024-07-28|9999-12-31|       true|\n",
      "|        15|       Jane|     Luna|XXXXXXXXX|XXXXXXXXX|    673 Burning Glen|      Fontana|   CA|  92336|           13|    2024-07-28|9999-12-31|       true|\n",
      "|        16|    Tiffany|    Smith|XXXXXXXXX|XXXXXXXXX|      6651 Iron Port|       Caguas|   PR|    725|           14|    2024-07-28|9999-12-31|       true|\n",
      "|        17|       Mary| Robinson|XXXXXXXXX|XXXXXXXXX|     1325 Noble Pike|       Taylor|   MI|  48180|           15|    2024-07-28|9999-12-31|       true|\n",
      "|        18|     Robert|    Smith|XXXXXXXXX|XXXXXXXXX|2734 Hazy Butterf...|     Martinez|   CA|  94553|           16|    2024-07-28|9999-12-31|       true|\n",
      "|        19|  Stephanie| Mitchell|XXXXXXXXX|XXXXXXXXX|3543 Red Treasure...|       Caguas|   PR|    725|           17|    2024-07-28|9999-12-31|       true|\n",
      "|        20|       Mary|    Ellis|XXXXXXXXX|XXXXXXXXX|      4703 Old Route|West New York|   NJ|   7093|           18|    2024-07-28|9999-12-31|       true|\n",
      "|        21|    William|Zimmerman|XXXXXXXXX|XXXXXXXXX|3323 Old Willow M...|       Caguas|   PR|    725|           19|    2024-07-28|9999-12-31|       true|\n",
      "|        22|     Joseph|    Smith|XXXXXXXXX|XXXXXXXXX|7740 Broad Fox Vi...| North Bergen|   NJ|   7047|           20|    2024-07-28|9999-12-31|       true|\n",
      "+----------+-----------+---------+---------+---------+--------------------+-------------+-----+-------+-------------+--------------+----------+-----------+\n",
      "only showing top 20 rows\n",
      "\n"
     ]
    }
   ],
   "source": [
    "enhanced_customers_source_df.show()"
   ]
  },
  {
   "cell_type": "code",
   "execution_count": 19,
   "id": "fdc21b78",
   "metadata": {},
   "outputs": [],
   "source": [
    "enhanced_customers_source_df.write.mode('overwrite') \\\n",
    ".option(\"header\",True) \\\n",
    ".option(\"delimiter\",\",\") \\\n",
    ".csv(destination_url)"
   ]
  },
  {
   "cell_type": "code",
   "execution_count": 56,
   "id": "32d6c0a2",
   "metadata": {},
   "outputs": [],
   "source": [
    "customers_target_df = spark.read \\\n",
    ".format(\"csv\") \\\n",
    ".option(\"header\",True) \\\n",
    ".schema(customers_target_schema) \\\n",
    ".load(destination_url)"
   ]
  },
  {
   "cell_type": "code",
   "execution_count": 57,
   "id": "ec2a217e",
   "metadata": {},
   "outputs": [
    {
     "name": "stdout",
     "output_type": "stream",
     "text": [
      "+----------+-----------+---------+---------+---------+--------------------+-------------+-----+-------+-------------+--------------+----------+-----------+\n",
      "|customerid|  firstname| lastname|    email|    phone|             address|         city|state|zipcode|customer_skey|effective_date|  end_date|active_flag|\n",
      "+----------+-----------+---------+---------+---------+--------------------+-------------+-----+-------+-------------+--------------+----------+-----------+\n",
      "|         1|    Richard|Hernandez|XXXXXXXXX|XXXXXXXXX|  6303 Heather Plaza|  Brownsville|   TX|  78521|            1|    2024-07-28|9999-12-31|       true|\n",
      "|         2|       Mary|  Barrett|XXXXXXXXX|XXXXXXXXX|9526 Noble Embers...|    Littleton|   CO|  80126|            2|    2024-07-28|9999-12-31|       true|\n",
      "|         3|        Ann|    Smith|XXXXXXXXX|XXXXXXXXX|3422 Blue Pioneer...|       Caguas|   PR|    725|            3|    2024-07-28|9999-12-31|       true|\n",
      "|         4|       Mary|    Jones|XXXXXXXXX|XXXXXXXXX|  8324 Little Common|   San Marcos|   CA|  92069|            4|    2024-07-28|9999-12-31|       true|\n",
      "|         5|     Robert|   Hudson|XXXXXXXXX|XXXXXXXXX|10 Crystal River ...|       Caguas|   PR|    725|            5|    2024-07-28|9999-12-31|       true|\n",
      "|         6|       Mary|    Smith|XXXXXXXXX|XXXXXXXXX|3151 Sleepy Quail...|      Passaic|   NJ|   7055|            6|    2024-07-28|9999-12-31|       true|\n",
      "|         7|    Melissa|   Wilcox|XXXXXXXXX|XXXXXXXXX|9453 High Concession|       Caguas|   PR|    725|            7|    2024-07-28|9999-12-31|       true|\n",
      "|        10|    Melissa|    Smith|XXXXXXXXX|XXXXXXXXX|8598 Harvest Beac...|     Stafford|   VA|  22554|            8|    2024-07-28|9999-12-31|       true|\n",
      "|        11|       Mary|  Huffman|XXXXXXXXX|XXXXXXXXX|    3169 Stony Woods|       Caguas|   PR|    725|            9|    2024-07-28|9999-12-31|       true|\n",
      "|        12|Christopher|    Smith|XXXXXXXXX|XXXXXXXXX|5594 Jagged Ember...|  San Antonio|   TX|  78227|           10|    2024-07-28|9999-12-31|       true|\n",
      "|        13|       Mary|  Baldwin|XXXXXXXXX|XXXXXXXXX|7922 Iron Oak Gar...|       Caguas|   PR|    725|           11|    2024-07-28|9999-12-31|       true|\n",
      "|        14|  Katherine|    Smith|XXXXXXXXX|XXXXXXXXX|5666 Hazy Pony Sq...|  Pico Rivera|   CA|  90660|           12|    2024-07-28|9999-12-31|       true|\n",
      "|        15|       Jane|     Luna|XXXXXXXXX|XXXXXXXXX|    673 Burning Glen|      Fontana|   CA|  92336|           13|    2024-07-28|9999-12-31|       true|\n",
      "|        16|    Tiffany|    Smith|XXXXXXXXX|XXXXXXXXX|      6651 Iron Port|       Caguas|   PR|    725|           14|    2024-07-28|9999-12-31|       true|\n",
      "|        17|       Mary| Robinson|XXXXXXXXX|XXXXXXXXX|     1325 Noble Pike|       Taylor|   MI|  48180|           15|    2024-07-28|9999-12-31|       true|\n",
      "|        18|     Robert|    Smith|XXXXXXXXX|XXXXXXXXX|2734 Hazy Butterf...|     Martinez|   CA|  94553|           16|    2024-07-28|9999-12-31|       true|\n",
      "|        19|  Stephanie| Mitchell|XXXXXXXXX|XXXXXXXXX|3543 Red Treasure...|       Caguas|   PR|    725|           17|    2024-07-28|9999-12-31|       true|\n",
      "|        20|       Mary|    Ellis|XXXXXXXXX|XXXXXXXXX|      4703 Old Route|West New York|   NJ|   7093|           18|    2024-07-28|9999-12-31|       true|\n",
      "|        21|    William|Zimmerman|XXXXXXXXX|XXXXXXXXX|3323 Old Willow Mall|       Caguas|   PR|    725|           19|    2024-07-28|9999-12-31|       true|\n",
      "|        22|     Joseph|    Smith|XXXXXXXXX|XXXXXXXXX|7740 Broad Fox Vi...| North Bergen|   NJ|   7047|           20|    2024-07-28|9999-12-31|       true|\n",
      "+----------+-----------+---------+---------+---------+--------------------+-------------+-----+-------+-------------+--------------+----------+-----------+\n",
      "only showing top 20 rows\n",
      "\n"
     ]
    }
   ],
   "source": [
    "customers_target_df.show()"
   ]
  },
  {
   "cell_type": "code",
   "execution_count": 58,
   "id": "312e99b1",
   "metadata": {},
   "outputs": [
    {
     "name": "stdout",
     "output_type": "stream",
     "text": [
      "+----------+-----------+---------+---------+---------+--------------------+-------------+-----+-------+\n",
      "|customerid|  firstname| lastname|    email|    phone|             address|         city|state|zipcode|\n",
      "+----------+-----------+---------+---------+---------+--------------------+-------------+-----+-------+\n",
      "|         1|    Richard|Hernandez|XXXXXXXXX|XXXXXXXXX|  6303 Heather Plaza|  Brownsville|   TX|  78521|\n",
      "|         2|       Mary|  Barrett|XXXXXXXXX|XXXXXXXXX|9526 Noble Embers...|    Littleton|   CO|  80126|\n",
      "|         3|        Ann|    Smith|XXXXXXXXX|XXXXXXXXX|3422 Blue Pioneer...|       Caguas|   PR|    725|\n",
      "|         4|       Mary|    Jones|XXXXXXXXX|XXXXXXXXX|  8324 Little Common|   San Marcos|   CA|  92069|\n",
      "|         5|     Robert|   Hudson|XXXXXXXXX|XXXXXXXXX|10 Crystal River ...|       Caguas|   PR|    725|\n",
      "|         6|       Mary|    Smith|XXXXXXXXX|XXXXXXXXX|3151 Sleepy Quail...|      Passaic|   NJ|   7055|\n",
      "|         7|    Melissa|   Wilcox|XXXXXXXXX|XXXXXXXXX|9453 High Concession|       Caguas|   PR|    725|\n",
      "|        10|    Melissa|    Smith|XXXXXXXXX|XXXXXXXXX|8598 Harvest Beac...|     Stafford|   VA|  22554|\n",
      "|        11|       Mary|  Huffman|XXXXXXXXX|XXXXXXXXX|    3169 Stony Woods|       Caguas|   PR|    725|\n",
      "|        12|Christopher|    Smith|XXXXXXXXX|XXXXXXXXX|5594 Jagged Ember...|  San Antonio|   TX|  78227|\n",
      "|        13|       Mary|  Baldwin|XXXXXXXXX|XXXXXXXXX|7922 Iron Oak Gar...|       Caguas|   PR|    725|\n",
      "|        14|  Katherine|    Smith|XXXXXXXXX|XXXXXXXXX|5666 Hazy Pony Sq...|  Pico Rivera|   CA|  90660|\n",
      "|        15|       Jane|     Luna|XXXXXXXXX|XXXXXXXXX|    673 Burning Glen|      Fontana|   CA|  92336|\n",
      "|        16|    Tiffany|    Smith|XXXXXXXXX|XXXXXXXXX|      6651 Iron Port|       Caguas|   PR|    725|\n",
      "|        17|       Mary| Robinson|XXXXXXXXX|XXXXXXXXX|     1325 Noble Pike|       Taylor|   MI|  48180|\n",
      "|        18|     Robert|    Smith|XXXXXXXXX|XXXXXXXXX|2734 Hazy Butterf...|     Martinez|   CA|  94553|\n",
      "|        19|  Stephanie| Mitchell|XXXXXXXXX|XXXXXXXXX|3543 Red Treasure...|       Caguas|   PR|    725|\n",
      "|        20|       Mary|    Ellis|XXXXXXXXX|XXXXXXXXX|      4703 Old Route|West New York|   NJ|   7093|\n",
      "|        21|    William|Zimmerman|XXXXXXXXX|XXXXXXXXX|3323 Old Willow M...|       Caguas|   PR|    725|\n",
      "|        22|     Joseph|    Smith|XXXXXXXXX|XXXXXXXXX|7740 Broad Fox Vi...| North Bergen|   NJ|   7047|\n",
      "+----------+-----------+---------+---------+---------+--------------------+-------------+-----+-------+\n",
      "only showing top 20 rows\n",
      "\n"
     ]
    }
   ],
   "source": [
    "customers_source_df.show()"
   ]
  },
  {
   "cell_type": "code",
   "execution_count": 60,
   "id": "e7c94b90",
   "metadata": {},
   "outputs": [],
   "source": [
    "max_sk = customers_target_df.agg({\"customer_skey\": \"max\"}).collect()[0][0]"
   ]
  },
  {
   "cell_type": "code",
   "execution_count": 61,
   "id": "8a4b8faf",
   "metadata": {},
   "outputs": [
    {
     "name": "stdout",
     "output_type": "stream",
     "text": [
      "12433\n"
     ]
    }
   ],
   "source": [
    "print(max_sk)"
   ]
  },
  {
   "cell_type": "code",
   "execution_count": 63,
   "id": "b058d3bf",
   "metadata": {},
   "outputs": [
    {
     "name": "stdout",
     "output_type": "stream",
     "text": [
      "+----------+-----------+---------+---------+---------+--------------------+-------------+-----+-------+\n",
      "|customerid|  firstname| lastname|    email|    phone|             address|         city|state|zipcode|\n",
      "+----------+-----------+---------+---------+---------+--------------------+-------------+-----+-------+\n",
      "|         1|    Richard|Hernandez|XXXXXXXXX|XXXXXXXXX| 7108 Belmont Avenue|       Newark|   NJ|   7103|\n",
      "|         2|       Mary|  Barrett|XXXXXXXXX|XXXXXXXXX|5592 Crystal Rive...|        Tampa|   FL|  34423|\n",
      "|         3|        Ann|    Smith|XXXXXXXXX|XXXXXXXXX|1184 Boat Lake Drive|     Richmond|   VA|  23220|\n",
      "|         4|       Mary|    Jones|XXXXXXXXX|XXXXXXXXX|  8324 Little Common|   San Marcos|   CA|  92069|\n",
      "|         5|     Robert|   Hudson|XXXXXXXXX|XXXXXXXXX|10 Crystal River ...|       Caguas|   PR|    725|\n",
      "|         6|       Mary|    Smith|XXXXXXXXX|XXXXXXXXX|3151 Sleepy Quail...|      Passaic|   NJ|   7055|\n",
      "|         7|    Melissa|   Wilcox|XXXXXXXXX|XXXXXXXXX|9453 High Concession|       Caguas|   PR|    725|\n",
      "|        10|    Melissa|    Smith|XXXXXXXXX|XXXXXXXXX|8598 Harvest Beac...|     Stafford|   VA|  22554|\n",
      "|        11|       Mary|  Huffman|XXXXXXXXX|XXXXXXXXX|    3169 Stony Woods|       Caguas|   PR|    725|\n",
      "|        12|Christopher|    Smith|XXXXXXXXX|XXXXXXXXX|5594 Jagged Ember...|  San Antonio|   TX|  78227|\n",
      "|        13|       Mary|  Baldwin|XXXXXXXXX|XXXXXXXXX|7922 Iron Oak Gar...|       Caguas|   PR|    725|\n",
      "|        14|  Katherine|    Smith|XXXXXXXXX|XXXXXXXXX|5666 Hazy Pony Sq...|  Pico Rivera|   CA|  90660|\n",
      "|        15|       Jane|     Luna|XXXXXXXXX|XXXXXXXXX|    673 Burning Glen|      Fontana|   CA|  92336|\n",
      "|        16|    Tiffany|    Smith|XXXXXXXXX|XXXXXXXXX|      6651 Iron Port|       Caguas|   PR|    725|\n",
      "|        17|       Mary| Robinson|XXXXXXXXX|XXXXXXXXX|     1325 Noble Pike|       Taylor|   MI|  48180|\n",
      "|        18|     Robert|    Smith|XXXXXXXXX|XXXXXXXXX|2734 Hazy Butterf...|     Martinez|   CA|  94553|\n",
      "|        19|  Stephanie| Mitchell|XXXXXXXXX|XXXXXXXXX|3543 Red Treasure...|       Caguas|   PR|    725|\n",
      "|        20|       Mary|    Ellis|XXXXXXXXX|XXXXXXXXX|      4703 Old Route|West New York|   NJ|   7093|\n",
      "|        21|    William|Zimmerman|XXXXXXXXX|XXXXXXXXX|3323 Old Willow M...|       Caguas|   PR|    725|\n",
      "|        22|     Joseph|    Smith|XXXXXXXXX|XXXXXXXXX|7740 Broad Fox Vi...| North Bergen|   NJ|   7047|\n",
      "+----------+-----------+---------+---------+---------+--------------------+-------------+-----+-------+\n",
      "only showing top 20 rows\n",
      "\n"
     ]
    }
   ],
   "source": [
    "# Reading the customers source dataframe again to read the new customers data\n",
    "customers_source_df = spark.read \\\n",
    ".format(\"csv\") \\\n",
    ".option(\"header\",True) \\\n",
    ".schema(customers_source_schema) \\\n",
    ".load(source_url)\n",
    "\n",
    "customers_source_df.show()"
   ]
  },
  {
   "cell_type": "code",
   "execution_count": 64,
   "id": "37d1bfab",
   "metadata": {},
   "outputs": [],
   "source": [
    "active_customers_target_df = customers_target_df.where(col(\"active_flag\")==True)"
   ]
  },
  {
   "cell_type": "code",
   "execution_count": 65,
   "id": "7b5bad81",
   "metadata": {},
   "outputs": [],
   "source": [
    "inactive_customers_target_df = customers_target_df.where(col(\"active_flag\")==False)"
   ]
  },
  {
   "cell_type": "code",
   "execution_count": 66,
   "id": "f9038ec6",
   "metadata": {},
   "outputs": [
    {
     "name": "stdout",
     "output_type": "stream",
     "text": [
      "+----------+-----------+---------+---------+---------+--------------------+-------------+-----+-------+-------------+--------------+----------+-----------+\n",
      "|customerid|  firstname| lastname|    email|    phone|             address|         city|state|zipcode|customer_skey|effective_date|  end_date|active_flag|\n",
      "+----------+-----------+---------+---------+---------+--------------------+-------------+-----+-------+-------------+--------------+----------+-----------+\n",
      "|         1|    Richard|Hernandez|XXXXXXXXX|XXXXXXXXX|  6303 Heather Plaza|  Brownsville|   TX|  78521|            1|    2024-07-28|9999-12-31|       true|\n",
      "|         2|       Mary|  Barrett|XXXXXXXXX|XXXXXXXXX|9526 Noble Embers...|    Littleton|   CO|  80126|            2|    2024-07-28|9999-12-31|       true|\n",
      "|         3|        Ann|    Smith|XXXXXXXXX|XXXXXXXXX|3422 Blue Pioneer...|       Caguas|   PR|    725|            3|    2024-07-28|9999-12-31|       true|\n",
      "|         4|       Mary|    Jones|XXXXXXXXX|XXXXXXXXX|  8324 Little Common|   San Marcos|   CA|  92069|            4|    2024-07-28|9999-12-31|       true|\n",
      "|         5|     Robert|   Hudson|XXXXXXXXX|XXXXXXXXX|10 Crystal River ...|       Caguas|   PR|    725|            5|    2024-07-28|9999-12-31|       true|\n",
      "|         6|       Mary|    Smith|XXXXXXXXX|XXXXXXXXX|3151 Sleepy Quail...|      Passaic|   NJ|   7055|            6|    2024-07-28|9999-12-31|       true|\n",
      "|         7|    Melissa|   Wilcox|XXXXXXXXX|XXXXXXXXX|9453 High Concession|       Caguas|   PR|    725|            7|    2024-07-28|9999-12-31|       true|\n",
      "|        10|    Melissa|    Smith|XXXXXXXXX|XXXXXXXXX|8598 Harvest Beac...|     Stafford|   VA|  22554|            8|    2024-07-28|9999-12-31|       true|\n",
      "|        11|       Mary|  Huffman|XXXXXXXXX|XXXXXXXXX|    3169 Stony Woods|       Caguas|   PR|    725|            9|    2024-07-28|9999-12-31|       true|\n",
      "|        12|Christopher|    Smith|XXXXXXXXX|XXXXXXXXX|5594 Jagged Ember...|  San Antonio|   TX|  78227|           10|    2024-07-28|9999-12-31|       true|\n",
      "|        13|       Mary|  Baldwin|XXXXXXXXX|XXXXXXXXX|7922 Iron Oak Gar...|       Caguas|   PR|    725|           11|    2024-07-28|9999-12-31|       true|\n",
      "|        14|  Katherine|    Smith|XXXXXXXXX|XXXXXXXXX|5666 Hazy Pony Sq...|  Pico Rivera|   CA|  90660|           12|    2024-07-28|9999-12-31|       true|\n",
      "|        15|       Jane|     Luna|XXXXXXXXX|XXXXXXXXX|    673 Burning Glen|      Fontana|   CA|  92336|           13|    2024-07-28|9999-12-31|       true|\n",
      "|        16|    Tiffany|    Smith|XXXXXXXXX|XXXXXXXXX|      6651 Iron Port|       Caguas|   PR|    725|           14|    2024-07-28|9999-12-31|       true|\n",
      "|        17|       Mary| Robinson|XXXXXXXXX|XXXXXXXXX|     1325 Noble Pike|       Taylor|   MI|  48180|           15|    2024-07-28|9999-12-31|       true|\n",
      "|        18|     Robert|    Smith|XXXXXXXXX|XXXXXXXXX|2734 Hazy Butterf...|     Martinez|   CA|  94553|           16|    2024-07-28|9999-12-31|       true|\n",
      "|        19|  Stephanie| Mitchell|XXXXXXXXX|XXXXXXXXX|3543 Red Treasure...|       Caguas|   PR|    725|           17|    2024-07-28|9999-12-31|       true|\n",
      "|        20|       Mary|    Ellis|XXXXXXXXX|XXXXXXXXX|      4703 Old Route|West New York|   NJ|   7093|           18|    2024-07-28|9999-12-31|       true|\n",
      "|        21|    William|Zimmerman|XXXXXXXXX|XXXXXXXXX|3323 Old Willow Mall|       Caguas|   PR|    725|           19|    2024-07-28|9999-12-31|       true|\n",
      "|        22|     Joseph|    Smith|XXXXXXXXX|XXXXXXXXX|7740 Broad Fox Vi...| North Bergen|   NJ|   7047|           20|    2024-07-28|9999-12-31|       true|\n",
      "+----------+-----------+---------+---------+---------+--------------------+-------------+-----+-------+-------------+--------------+----------+-----------+\n",
      "only showing top 20 rows\n",
      "\n"
     ]
    }
   ],
   "source": [
    "active_customers_target_df.show()"
   ]
  },
  {
   "cell_type": "code",
   "execution_count": 68,
   "id": "1f10dfc2",
   "metadata": {},
   "outputs": [
    {
     "name": "stdout",
     "output_type": "stream",
     "text": [
      "+----------+-----------+---------+---------+---------+--------------------+-------------+-----+-------+-------------+--------------+----------+-----------+-----------+---------+---------+---------+--------------------+-------------+-----+-------+\n",
      "|customerid|  firstname| lastname|    email|    phone|             address|         city|state|zipcode|customer_skey|effective_date|  end_date|active_flag|  firstname| lastname|    email|    phone|             address|         city|state|zipcode|\n",
      "+----------+-----------+---------+---------+---------+--------------------+-------------+-----+-------+-------------+--------------+----------+-----------+-----------+---------+---------+---------+--------------------+-------------+-----+-------+\n",
      "|         1|    Richard|Hernandez|XXXXXXXXX|XXXXXXXXX|  6303 Heather Plaza|  Brownsville|   TX|  78521|            1|    2024-07-28|9999-12-31|       true|    Richard|Hernandez|XXXXXXXXX|XXXXXXXXX| 7108 Belmont Avenue|       Newark|   NJ|   7103|\n",
      "|         2|       Mary|  Barrett|XXXXXXXXX|XXXXXXXXX|9526 Noble Embers...|    Littleton|   CO|  80126|            2|    2024-07-28|9999-12-31|       true|       Mary|  Barrett|XXXXXXXXX|XXXXXXXXX|5592 Crystal Rive...|        Tampa|   FL|  34423|\n",
      "|         3|        Ann|    Smith|XXXXXXXXX|XXXXXXXXX|3422 Blue Pioneer...|       Caguas|   PR|    725|            3|    2024-07-28|9999-12-31|       true|        Ann|    Smith|XXXXXXXXX|XXXXXXXXX|1184 Boat Lake Drive|     Richmond|   VA|  23220|\n",
      "|         4|       Mary|    Jones|XXXXXXXXX|XXXXXXXXX|  8324 Little Common|   San Marcos|   CA|  92069|            4|    2024-07-28|9999-12-31|       true|       Mary|    Jones|XXXXXXXXX|XXXXXXXXX|  8324 Little Common|   San Marcos|   CA|  92069|\n",
      "|         5|     Robert|   Hudson|XXXXXXXXX|XXXXXXXXX|10 Crystal River ...|       Caguas|   PR|    725|            5|    2024-07-28|9999-12-31|       true|     Robert|   Hudson|XXXXXXXXX|XXXXXXXXX|10 Crystal River ...|       Caguas|   PR|    725|\n",
      "|         6|       Mary|    Smith|XXXXXXXXX|XXXXXXXXX|3151 Sleepy Quail...|      Passaic|   NJ|   7055|            6|    2024-07-28|9999-12-31|       true|       Mary|    Smith|XXXXXXXXX|XXXXXXXXX|3151 Sleepy Quail...|      Passaic|   NJ|   7055|\n",
      "|         7|    Melissa|   Wilcox|XXXXXXXXX|XXXXXXXXX|9453 High Concession|       Caguas|   PR|    725|            7|    2024-07-28|9999-12-31|       true|    Melissa|   Wilcox|XXXXXXXXX|XXXXXXXXX|9453 High Concession|       Caguas|   PR|    725|\n",
      "|        10|    Melissa|    Smith|XXXXXXXXX|XXXXXXXXX|8598 Harvest Beac...|     Stafford|   VA|  22554|            8|    2024-07-28|9999-12-31|       true|    Melissa|    Smith|XXXXXXXXX|XXXXXXXXX|8598 Harvest Beac...|     Stafford|   VA|  22554|\n",
      "|        11|       Mary|  Huffman|XXXXXXXXX|XXXXXXXXX|    3169 Stony Woods|       Caguas|   PR|    725|            9|    2024-07-28|9999-12-31|       true|       Mary|  Huffman|XXXXXXXXX|XXXXXXXXX|    3169 Stony Woods|       Caguas|   PR|    725|\n",
      "|        12|Christopher|    Smith|XXXXXXXXX|XXXXXXXXX|5594 Jagged Ember...|  San Antonio|   TX|  78227|           10|    2024-07-28|9999-12-31|       true|Christopher|    Smith|XXXXXXXXX|XXXXXXXXX|5594 Jagged Ember...|  San Antonio|   TX|  78227|\n",
      "|        13|       Mary|  Baldwin|XXXXXXXXX|XXXXXXXXX|7922 Iron Oak Gar...|       Caguas|   PR|    725|           11|    2024-07-28|9999-12-31|       true|       Mary|  Baldwin|XXXXXXXXX|XXXXXXXXX|7922 Iron Oak Gar...|       Caguas|   PR|    725|\n",
      "|        14|  Katherine|    Smith|XXXXXXXXX|XXXXXXXXX|5666 Hazy Pony Sq...|  Pico Rivera|   CA|  90660|           12|    2024-07-28|9999-12-31|       true|  Katherine|    Smith|XXXXXXXXX|XXXXXXXXX|5666 Hazy Pony Sq...|  Pico Rivera|   CA|  90660|\n",
      "|        15|       Jane|     Luna|XXXXXXXXX|XXXXXXXXX|    673 Burning Glen|      Fontana|   CA|  92336|           13|    2024-07-28|9999-12-31|       true|       Jane|     Luna|XXXXXXXXX|XXXXXXXXX|    673 Burning Glen|      Fontana|   CA|  92336|\n",
      "|        16|    Tiffany|    Smith|XXXXXXXXX|XXXXXXXXX|      6651 Iron Port|       Caguas|   PR|    725|           14|    2024-07-28|9999-12-31|       true|    Tiffany|    Smith|XXXXXXXXX|XXXXXXXXX|      6651 Iron Port|       Caguas|   PR|    725|\n",
      "|        17|       Mary| Robinson|XXXXXXXXX|XXXXXXXXX|     1325 Noble Pike|       Taylor|   MI|  48180|           15|    2024-07-28|9999-12-31|       true|       Mary| Robinson|XXXXXXXXX|XXXXXXXXX|     1325 Noble Pike|       Taylor|   MI|  48180|\n",
      "|        18|     Robert|    Smith|XXXXXXXXX|XXXXXXXXX|2734 Hazy Butterf...|     Martinez|   CA|  94553|           16|    2024-07-28|9999-12-31|       true|     Robert|    Smith|XXXXXXXXX|XXXXXXXXX|2734 Hazy Butterf...|     Martinez|   CA|  94553|\n",
      "|        19|  Stephanie| Mitchell|XXXXXXXXX|XXXXXXXXX|3543 Red Treasure...|       Caguas|   PR|    725|           17|    2024-07-28|9999-12-31|       true|  Stephanie| Mitchell|XXXXXXXXX|XXXXXXXXX|3543 Red Treasure...|       Caguas|   PR|    725|\n",
      "|        20|       Mary|    Ellis|XXXXXXXXX|XXXXXXXXX|      4703 Old Route|West New York|   NJ|   7093|           18|    2024-07-28|9999-12-31|       true|       Mary|    Ellis|XXXXXXXXX|XXXXXXXXX|      4703 Old Route|West New York|   NJ|   7093|\n",
      "|        21|    William|Zimmerman|XXXXXXXXX|XXXXXXXXX|3323 Old Willow Mall|       Caguas|   PR|    725|           19|    2024-07-28|9999-12-31|       true|    William|Zimmerman|XXXXXXXXX|XXXXXXXXX|3323 Old Willow M...|       Caguas|   PR|    725|\n",
      "|        22|     Joseph|    Smith|XXXXXXXXX|XXXXXXXXX|7740 Broad Fox Vi...| North Bergen|   NJ|   7047|           20|    2024-07-28|9999-12-31|       true|     Joseph|    Smith|XXXXXXXXX|XXXXXXXXX|7740 Broad Fox Vi...| North Bergen|   NJ|   7047|\n",
      "+----------+-----------+---------+---------+---------+--------------------+-------------+-----+-------+-------------+--------------+----------+-----------+-----------+---------+---------+---------+--------------------+-------------+-----+-------+\n",
      "only showing top 20 rows\n",
      "\n"
     ]
    }
   ],
   "source": [
    "active_customers_target_df.join(customers_source_df, \"customerid\", \"full_outer\").show()"
   ]
  },
  {
   "cell_type": "code",
   "execution_count": 70,
   "id": "88faab38",
   "metadata": {},
   "outputs": [],
   "source": [
    "def column_renamer(df, suffix, append):\n",
    "   \n",
    "    if append:\n",
    "        new_column_names = list(map(lambda x: x+suffix, df.columns))\n",
    "        \n",
    "    else:\n",
    "        new_column_names = list(map(lambda x: x.replace(suffix,\"\"), df.columns))\n",
    "        \n",
    "    return df.toDF(*new_column_names)\n",
    "\n",
    "def get_hash(df, keys_list):\n",
    " \n",
    "    columns = [col(column) for column in keys_list]\n",
    "    \n",
    "    if columns:\n",
    "        return df.withColumn(\"hash_md5\", md5(concat_ws(\"\", *columns)))\n",
    "    else:\n",
    "        return df.withColumn(\"hash_md5\", md5(lit(1)))\n"
   ]
  },
  {
   "cell_type": "code",
   "execution_count": 71,
   "id": "045b718f",
   "metadata": {},
   "outputs": [],
   "source": [
    "active_customers_target_df_hash = column_renamer(get_hash(active_customers_target_df, slowly_changing_cols), suffix=\"_target\", append=True)\n",
    "\n",
    "customers_source_df_hash = column_renamer(get_hash(customers_source_df, slowly_changing_cols), suffix=\"_source\", append=True)\n"
   ]
  },
  {
   "cell_type": "code",
   "execution_count": 72,
   "id": "4c41d795",
   "metadata": {},
   "outputs": [
    {
     "name": "stdout",
     "output_type": "stream",
     "text": [
      "+-----------------+----------------+---------------+------------+------------+--------------------+-------------+------------+--------------+--------------------+---------------------+---------------+------------------+--------------------+\n",
      "|customerid_target|firstname_target|lastname_target|email_target|phone_target|      address_target|  city_target|state_target|zipcode_target|customer_skey_target|effective_date_target|end_date_target|active_flag_target|     hash_md5_target|\n",
      "+-----------------+----------------+---------------+------------+------------+--------------------+-------------+------------+--------------+--------------------+---------------------+---------------+------------------+--------------------+\n",
      "|                1|         Richard|      Hernandez|   XXXXXXXXX|   XXXXXXXXX|  6303 Heather Plaza|  Brownsville|          TX|         78521|                   1|           2024-07-28|     9999-12-31|              true|f2c1345c132ad8174...|\n",
      "|                2|            Mary|        Barrett|   XXXXXXXXX|   XXXXXXXXX|9526 Noble Embers...|    Littleton|          CO|         80126|                   2|           2024-07-28|     9999-12-31|              true|0a3dd6caa8299ff23...|\n",
      "|                3|             Ann|          Smith|   XXXXXXXXX|   XXXXXXXXX|3422 Blue Pioneer...|       Caguas|          PR|           725|                   3|           2024-07-28|     9999-12-31|              true|b7ceea21c9e952b6d...|\n",
      "|                4|            Mary|          Jones|   XXXXXXXXX|   XXXXXXXXX|  8324 Little Common|   San Marcos|          CA|         92069|                   4|           2024-07-28|     9999-12-31|              true|288548d73dc94340e...|\n",
      "|                5|          Robert|         Hudson|   XXXXXXXXX|   XXXXXXXXX|10 Crystal River ...|       Caguas|          PR|           725|                   5|           2024-07-28|     9999-12-31|              true|fba3fcc6244864f80...|\n",
      "|                6|            Mary|          Smith|   XXXXXXXXX|   XXXXXXXXX|3151 Sleepy Quail...|      Passaic|          NJ|          7055|                   6|           2024-07-28|     9999-12-31|              true|4de13de14f63afca5...|\n",
      "|                7|         Melissa|         Wilcox|   XXXXXXXXX|   XXXXXXXXX|9453 High Concession|       Caguas|          PR|           725|                   7|           2024-07-28|     9999-12-31|              true|3e03db4c5453280bc...|\n",
      "|               10|         Melissa|          Smith|   XXXXXXXXX|   XXXXXXXXX|8598 Harvest Beac...|     Stafford|          VA|         22554|                   8|           2024-07-28|     9999-12-31|              true|4d9276d2febeb1072...|\n",
      "|               11|            Mary|        Huffman|   XXXXXXXXX|   XXXXXXXXX|    3169 Stony Woods|       Caguas|          PR|           725|                   9|           2024-07-28|     9999-12-31|              true|35cdb9ea7dc689493...|\n",
      "|               12|     Christopher|          Smith|   XXXXXXXXX|   XXXXXXXXX|5594 Jagged Ember...|  San Antonio|          TX|         78227|                  10|           2024-07-28|     9999-12-31|              true|0cee0ae8686ec91a9...|\n",
      "|               13|            Mary|        Baldwin|   XXXXXXXXX|   XXXXXXXXX|7922 Iron Oak Gar...|       Caguas|          PR|           725|                  11|           2024-07-28|     9999-12-31|              true|7a6b98947cb57e2ef...|\n",
      "|               14|       Katherine|          Smith|   XXXXXXXXX|   XXXXXXXXX|5666 Hazy Pony Sq...|  Pico Rivera|          CA|         90660|                  12|           2024-07-28|     9999-12-31|              true|de866230b613a7968...|\n",
      "|               15|            Jane|           Luna|   XXXXXXXXX|   XXXXXXXXX|    673 Burning Glen|      Fontana|          CA|         92336|                  13|           2024-07-28|     9999-12-31|              true|bd696365e80f24fa1...|\n",
      "|               16|         Tiffany|          Smith|   XXXXXXXXX|   XXXXXXXXX|      6651 Iron Port|       Caguas|          PR|           725|                  14|           2024-07-28|     9999-12-31|              true|8d3ec91718fb2b3b3...|\n",
      "|               17|            Mary|       Robinson|   XXXXXXXXX|   XXXXXXXXX|     1325 Noble Pike|       Taylor|          MI|         48180|                  15|           2024-07-28|     9999-12-31|              true|f03670e3d87231aea...|\n",
      "|               18|          Robert|          Smith|   XXXXXXXXX|   XXXXXXXXX|2734 Hazy Butterf...|     Martinez|          CA|         94553|                  16|           2024-07-28|     9999-12-31|              true|5f44c922af13faf48...|\n",
      "|               19|       Stephanie|       Mitchell|   XXXXXXXXX|   XXXXXXXXX|3543 Red Treasure...|       Caguas|          PR|           725|                  17|           2024-07-28|     9999-12-31|              true|cc2951b6a04d9ed8c...|\n",
      "|               20|            Mary|          Ellis|   XXXXXXXXX|   XXXXXXXXX|      4703 Old Route|West New York|          NJ|          7093|                  18|           2024-07-28|     9999-12-31|              true|a6763cf3e529009ca...|\n",
      "|               21|         William|      Zimmerman|   XXXXXXXXX|   XXXXXXXXX|3323 Old Willow Mall|       Caguas|          PR|           725|                  19|           2024-07-28|     9999-12-31|              true|e6764ceadc2b02c07...|\n",
      "|               22|          Joseph|          Smith|   XXXXXXXXX|   XXXXXXXXX|7740 Broad Fox Vi...| North Bergen|          NJ|          7047|                  20|           2024-07-28|     9999-12-31|              true|f3ceeb10932fa2521...|\n",
      "+-----------------+----------------+---------------+------------+------------+--------------------+-------------+------------+--------------+--------------------+---------------------+---------------+------------------+--------------------+\n",
      "only showing top 20 rows\n",
      "\n"
     ]
    }
   ],
   "source": [
    "active_customers_target_df_hash.show()"
   ]
  },
  {
   "cell_type": "code",
   "execution_count": 73,
   "id": "518a1a17",
   "metadata": {},
   "outputs": [
    {
     "name": "stdout",
     "output_type": "stream",
     "text": [
      "+-----------------+----------------+---------------+------------+------------+--------------------+-------------+------------+--------------+--------------------+\n",
      "|customerid_source|firstname_source|lastname_source|email_source|phone_source|      address_source|  city_source|state_source|zipcode_source|     hash_md5_source|\n",
      "+-----------------+----------------+---------------+------------+------------+--------------------+-------------+------------+--------------+--------------------+\n",
      "|                1|         Richard|      Hernandez|   XXXXXXXXX|   XXXXXXXXX| 7108 Belmont Avenue|       Newark|          NJ|          7103|5c47f014e92644a46...|\n",
      "|                2|            Mary|        Barrett|   XXXXXXXXX|   XXXXXXXXX|5592 Crystal Rive...|        Tampa|          FL|         34423|b13597ee5c51c23f4...|\n",
      "|                3|             Ann|          Smith|   XXXXXXXXX|   XXXXXXXXX|1184 Boat Lake Drive|     Richmond|          VA|         23220|962342583e9751c48...|\n",
      "|                4|            Mary|          Jones|   XXXXXXXXX|   XXXXXXXXX|  8324 Little Common|   San Marcos|          CA|         92069|288548d73dc94340e...|\n",
      "|                5|          Robert|         Hudson|   XXXXXXXXX|   XXXXXXXXX|10 Crystal River ...|       Caguas|          PR|           725|241fe7e8d544405fc...|\n",
      "|                6|            Mary|          Smith|   XXXXXXXXX|   XXXXXXXXX|3151 Sleepy Quail...|      Passaic|          NJ|          7055|4de13de14f63afca5...|\n",
      "|                7|         Melissa|         Wilcox|   XXXXXXXXX|   XXXXXXXXX|9453 High Concession|       Caguas|          PR|           725|3e03db4c5453280bc...|\n",
      "|               10|         Melissa|          Smith|   XXXXXXXXX|   XXXXXXXXX|8598 Harvest Beac...|     Stafford|          VA|         22554|4d9276d2febeb1072...|\n",
      "|               11|            Mary|        Huffman|   XXXXXXXXX|   XXXXXXXXX|    3169 Stony Woods|       Caguas|          PR|           725|35cdb9ea7dc689493...|\n",
      "|               12|     Christopher|          Smith|   XXXXXXXXX|   XXXXXXXXX|5594 Jagged Ember...|  San Antonio|          TX|         78227|0cee0ae8686ec91a9...|\n",
      "|               13|            Mary|        Baldwin|   XXXXXXXXX|   XXXXXXXXX|7922 Iron Oak Gar...|       Caguas|          PR|           725|7a6b98947cb57e2ef...|\n",
      "|               14|       Katherine|          Smith|   XXXXXXXXX|   XXXXXXXXX|5666 Hazy Pony Sq...|  Pico Rivera|          CA|         90660|de866230b613a7968...|\n",
      "|               15|            Jane|           Luna|   XXXXXXXXX|   XXXXXXXXX|    673 Burning Glen|      Fontana|          CA|         92336|bd696365e80f24fa1...|\n",
      "|               16|         Tiffany|          Smith|   XXXXXXXXX|   XXXXXXXXX|      6651 Iron Port|       Caguas|          PR|           725|8d3ec91718fb2b3b3...|\n",
      "|               17|            Mary|       Robinson|   XXXXXXXXX|   XXXXXXXXX|     1325 Noble Pike|       Taylor|          MI|         48180|f03670e3d87231aea...|\n",
      "|               18|          Robert|          Smith|   XXXXXXXXX|   XXXXXXXXX|2734 Hazy Butterf...|     Martinez|          CA|         94553|5f44c922af13faf48...|\n",
      "|               19|       Stephanie|       Mitchell|   XXXXXXXXX|   XXXXXXXXX|3543 Red Treasure...|       Caguas|          PR|           725|cc2951b6a04d9ed8c...|\n",
      "|               20|            Mary|          Ellis|   XXXXXXXXX|   XXXXXXXXX|      4703 Old Route|West New York|          NJ|          7093|a6763cf3e529009ca...|\n",
      "|               21|         William|      Zimmerman|   XXXXXXXXX|   XXXXXXXXX|3323 Old Willow M...|       Caguas|          PR|           725|ac85f3dc66f5159d3...|\n",
      "|               22|          Joseph|          Smith|   XXXXXXXXX|   XXXXXXXXX|7740 Broad Fox Vi...| North Bergen|          NJ|          7047|f3ceeb10932fa2521...|\n",
      "+-----------------+----------------+---------------+------------+------------+--------------------+-------------+------------+--------------+--------------------+\n",
      "only showing top 20 rows\n",
      "\n"
     ]
    }
   ],
   "source": [
    "customers_source_df_hash.show()"
   ]
  },
  {
   "cell_type": "code",
   "execution_count": 74,
   "id": "8f9f2bc6",
   "metadata": {},
   "outputs": [],
   "source": [
    "merged_df = active_customers_target_df_hash.join(customers_source_df_hash, col(\"customerid_source\") ==  col(\"customerid_target\") , \"full_outer\") \\\n",
    ".withColumn(\"Action\", when(col(\"hash_md5_source\") == col(\"hash_md5_target\")  , 'NOCHANGE')\\\n",
    ".when(col(\"customerid_source\").isNull(), 'DELETE')\\\n",
    ".when(col(\"customerid_target\").isNull(), 'INSERT')\\\n",
    ".otherwise('UPDATE'))"
   ]
  },
  {
   "cell_type": "code",
   "execution_count": 75,
   "id": "beb79a75",
   "metadata": {},
   "outputs": [
    {
     "name": "stdout",
     "output_type": "stream",
     "text": [
      "+-----------------+----------------+---------------+------------+------------+--------------------+-------------+------------+--------------+--------------------+---------------------+---------------+------------------+--------------------+-----------------+----------------+---------------+------------+------------+--------------------+-------------+------------+--------------+--------------------+--------+\n",
      "|customerid_target|firstname_target|lastname_target|email_target|phone_target|      address_target|  city_target|state_target|zipcode_target|customer_skey_target|effective_date_target|end_date_target|active_flag_target|     hash_md5_target|customerid_source|firstname_source|lastname_source|email_source|phone_source|      address_source|  city_source|state_source|zipcode_source|     hash_md5_source|  Action|\n",
      "+-----------------+----------------+---------------+------------+------------+--------------------+-------------+------------+--------------+--------------------+---------------------+---------------+------------------+--------------------+-----------------+----------------+---------------+------------+------------+--------------------+-------------+------------+--------------+--------------------+--------+\n",
      "|                1|         Richard|      Hernandez|   XXXXXXXXX|   XXXXXXXXX|  6303 Heather Plaza|  Brownsville|          TX|         78521|                   1|           2024-07-28|     9999-12-31|              true|f2c1345c132ad8174...|                1|         Richard|      Hernandez|   XXXXXXXXX|   XXXXXXXXX| 7108 Belmont Avenue|       Newark|          NJ|          7103|5c47f014e92644a46...|  UPDATE|\n",
      "|                2|            Mary|        Barrett|   XXXXXXXXX|   XXXXXXXXX|9526 Noble Embers...|    Littleton|          CO|         80126|                   2|           2024-07-28|     9999-12-31|              true|0a3dd6caa8299ff23...|                2|            Mary|        Barrett|   XXXXXXXXX|   XXXXXXXXX|5592 Crystal Rive...|        Tampa|          FL|         34423|b13597ee5c51c23f4...|  UPDATE|\n",
      "|                3|             Ann|          Smith|   XXXXXXXXX|   XXXXXXXXX|3422 Blue Pioneer...|       Caguas|          PR|           725|                   3|           2024-07-28|     9999-12-31|              true|b7ceea21c9e952b6d...|                3|             Ann|          Smith|   XXXXXXXXX|   XXXXXXXXX|1184 Boat Lake Drive|     Richmond|          VA|         23220|962342583e9751c48...|  UPDATE|\n",
      "|                4|            Mary|          Jones|   XXXXXXXXX|   XXXXXXXXX|  8324 Little Common|   San Marcos|          CA|         92069|                   4|           2024-07-28|     9999-12-31|              true|288548d73dc94340e...|                4|            Mary|          Jones|   XXXXXXXXX|   XXXXXXXXX|  8324 Little Common|   San Marcos|          CA|         92069|288548d73dc94340e...|NOCHANGE|\n",
      "|                5|          Robert|         Hudson|   XXXXXXXXX|   XXXXXXXXX|10 Crystal River ...|       Caguas|          PR|           725|                   5|           2024-07-28|     9999-12-31|              true|fba3fcc6244864f80...|                5|          Robert|         Hudson|   XXXXXXXXX|   XXXXXXXXX|10 Crystal River ...|       Caguas|          PR|           725|241fe7e8d544405fc...|  UPDATE|\n",
      "|                6|            Mary|          Smith|   XXXXXXXXX|   XXXXXXXXX|3151 Sleepy Quail...|      Passaic|          NJ|          7055|                   6|           2024-07-28|     9999-12-31|              true|4de13de14f63afca5...|                6|            Mary|          Smith|   XXXXXXXXX|   XXXXXXXXX|3151 Sleepy Quail...|      Passaic|          NJ|          7055|4de13de14f63afca5...|NOCHANGE|\n",
      "|                7|         Melissa|         Wilcox|   XXXXXXXXX|   XXXXXXXXX|9453 High Concession|       Caguas|          PR|           725|                   7|           2024-07-28|     9999-12-31|              true|3e03db4c5453280bc...|                7|         Melissa|         Wilcox|   XXXXXXXXX|   XXXXXXXXX|9453 High Concession|       Caguas|          PR|           725|3e03db4c5453280bc...|NOCHANGE|\n",
      "|               10|         Melissa|          Smith|   XXXXXXXXX|   XXXXXXXXX|8598 Harvest Beac...|     Stafford|          VA|         22554|                   8|           2024-07-28|     9999-12-31|              true|4d9276d2febeb1072...|               10|         Melissa|          Smith|   XXXXXXXXX|   XXXXXXXXX|8598 Harvest Beac...|     Stafford|          VA|         22554|4d9276d2febeb1072...|NOCHANGE|\n",
      "|               11|            Mary|        Huffman|   XXXXXXXXX|   XXXXXXXXX|    3169 Stony Woods|       Caguas|          PR|           725|                   9|           2024-07-28|     9999-12-31|              true|35cdb9ea7dc689493...|               11|            Mary|        Huffman|   XXXXXXXXX|   XXXXXXXXX|    3169 Stony Woods|       Caguas|          PR|           725|35cdb9ea7dc689493...|NOCHANGE|\n",
      "|               12|     Christopher|          Smith|   XXXXXXXXX|   XXXXXXXXX|5594 Jagged Ember...|  San Antonio|          TX|         78227|                  10|           2024-07-28|     9999-12-31|              true|0cee0ae8686ec91a9...|               12|     Christopher|          Smith|   XXXXXXXXX|   XXXXXXXXX|5594 Jagged Ember...|  San Antonio|          TX|         78227|0cee0ae8686ec91a9...|NOCHANGE|\n",
      "|               13|            Mary|        Baldwin|   XXXXXXXXX|   XXXXXXXXX|7922 Iron Oak Gar...|       Caguas|          PR|           725|                  11|           2024-07-28|     9999-12-31|              true|7a6b98947cb57e2ef...|               13|            Mary|        Baldwin|   XXXXXXXXX|   XXXXXXXXX|7922 Iron Oak Gar...|       Caguas|          PR|           725|7a6b98947cb57e2ef...|NOCHANGE|\n",
      "|               14|       Katherine|          Smith|   XXXXXXXXX|   XXXXXXXXX|5666 Hazy Pony Sq...|  Pico Rivera|          CA|         90660|                  12|           2024-07-28|     9999-12-31|              true|de866230b613a7968...|               14|       Katherine|          Smith|   XXXXXXXXX|   XXXXXXXXX|5666 Hazy Pony Sq...|  Pico Rivera|          CA|         90660|de866230b613a7968...|NOCHANGE|\n",
      "|               15|            Jane|           Luna|   XXXXXXXXX|   XXXXXXXXX|    673 Burning Glen|      Fontana|          CA|         92336|                  13|           2024-07-28|     9999-12-31|              true|bd696365e80f24fa1...|               15|            Jane|           Luna|   XXXXXXXXX|   XXXXXXXXX|    673 Burning Glen|      Fontana|          CA|         92336|bd696365e80f24fa1...|NOCHANGE|\n",
      "|               16|         Tiffany|          Smith|   XXXXXXXXX|   XXXXXXXXX|      6651 Iron Port|       Caguas|          PR|           725|                  14|           2024-07-28|     9999-12-31|              true|8d3ec91718fb2b3b3...|               16|         Tiffany|          Smith|   XXXXXXXXX|   XXXXXXXXX|      6651 Iron Port|       Caguas|          PR|           725|8d3ec91718fb2b3b3...|NOCHANGE|\n",
      "|               17|            Mary|       Robinson|   XXXXXXXXX|   XXXXXXXXX|     1325 Noble Pike|       Taylor|          MI|         48180|                  15|           2024-07-28|     9999-12-31|              true|f03670e3d87231aea...|               17|            Mary|       Robinson|   XXXXXXXXX|   XXXXXXXXX|     1325 Noble Pike|       Taylor|          MI|         48180|f03670e3d87231aea...|NOCHANGE|\n",
      "|               18|          Robert|          Smith|   XXXXXXXXX|   XXXXXXXXX|2734 Hazy Butterf...|     Martinez|          CA|         94553|                  16|           2024-07-28|     9999-12-31|              true|5f44c922af13faf48...|               18|          Robert|          Smith|   XXXXXXXXX|   XXXXXXXXX|2734 Hazy Butterf...|     Martinez|          CA|         94553|5f44c922af13faf48...|NOCHANGE|\n",
      "|               19|       Stephanie|       Mitchell|   XXXXXXXXX|   XXXXXXXXX|3543 Red Treasure...|       Caguas|          PR|           725|                  17|           2024-07-28|     9999-12-31|              true|cc2951b6a04d9ed8c...|               19|       Stephanie|       Mitchell|   XXXXXXXXX|   XXXXXXXXX|3543 Red Treasure...|       Caguas|          PR|           725|cc2951b6a04d9ed8c...|NOCHANGE|\n",
      "|               20|            Mary|          Ellis|   XXXXXXXXX|   XXXXXXXXX|      4703 Old Route|West New York|          NJ|          7093|                  18|           2024-07-28|     9999-12-31|              true|a6763cf3e529009ca...|               20|            Mary|          Ellis|   XXXXXXXXX|   XXXXXXXXX|      4703 Old Route|West New York|          NJ|          7093|a6763cf3e529009ca...|NOCHANGE|\n",
      "|               21|         William|      Zimmerman|   XXXXXXXXX|   XXXXXXXXX|3323 Old Willow Mall|       Caguas|          PR|           725|                  19|           2024-07-28|     9999-12-31|              true|e6764ceadc2b02c07...|               21|         William|      Zimmerman|   XXXXXXXXX|   XXXXXXXXX|3323 Old Willow M...|       Caguas|          PR|           725|ac85f3dc66f5159d3...|  UPDATE|\n",
      "|               22|          Joseph|          Smith|   XXXXXXXXX|   XXXXXXXXX|7740 Broad Fox Vi...| North Bergen|          NJ|          7047|                  20|           2024-07-28|     9999-12-31|              true|f3ceeb10932fa2521...|               22|          Joseph|          Smith|   XXXXXXXXX|   XXXXXXXXX|7740 Broad Fox Vi...| North Bergen|          NJ|          7047|f3ceeb10932fa2521...|NOCHANGE|\n",
      "+-----------------+----------------+---------------+------------+------------+--------------------+-------------+------------+--------------+--------------------+---------------------+---------------+------------------+--------------------+-----------------+----------------+---------------+------------+------------+--------------------+-------------+------------+--------------+--------------------+--------+\n",
      "only showing top 20 rows\n",
      "\n"
     ]
    }
   ],
   "source": [
    "merged_df.show()"
   ]
  },
  {
   "cell_type": "code",
   "execution_count": 76,
   "id": "8c1d4236",
   "metadata": {},
   "outputs": [],
   "source": [
    "unchanged_records = column_renamer(merged_df.filter(col(\"action\") == 'NOCHANGE'), suffix=\"_target\", append=False).select(active_customers_target_df.columns)"
   ]
  },
  {
   "cell_type": "code",
   "execution_count": 77,
   "id": "6d8edb9a",
   "metadata": {},
   "outputs": [
    {
     "name": "stdout",
     "output_type": "stream",
     "text": [
      "+----------+-----------+----------+---------+---------+--------------------+-------------+-----+-------+-------------+--------------+----------+-----------+\n",
      "|customerid|  firstname|  lastname|    email|    phone|             address|         city|state|zipcode|customer_skey|effective_date|  end_date|active_flag|\n",
      "+----------+-----------+----------+---------+---------+--------------------+-------------+-----+-------+-------------+--------------+----------+-----------+\n",
      "|         4|       Mary|     Jones|XXXXXXXXX|XXXXXXXXX|  8324 Little Common|   San Marcos|   CA|  92069|            4|    2024-07-28|9999-12-31|       true|\n",
      "|         6|       Mary|     Smith|XXXXXXXXX|XXXXXXXXX|3151 Sleepy Quail...|      Passaic|   NJ|   7055|            6|    2024-07-28|9999-12-31|       true|\n",
      "|         7|    Melissa|    Wilcox|XXXXXXXXX|XXXXXXXXX|9453 High Concession|       Caguas|   PR|    725|            7|    2024-07-28|9999-12-31|       true|\n",
      "|        10|    Melissa|     Smith|XXXXXXXXX|XXXXXXXXX|8598 Harvest Beac...|     Stafford|   VA|  22554|            8|    2024-07-28|9999-12-31|       true|\n",
      "|        11|       Mary|   Huffman|XXXXXXXXX|XXXXXXXXX|    3169 Stony Woods|       Caguas|   PR|    725|            9|    2024-07-28|9999-12-31|       true|\n",
      "|        12|Christopher|     Smith|XXXXXXXXX|XXXXXXXXX|5594 Jagged Ember...|  San Antonio|   TX|  78227|           10|    2024-07-28|9999-12-31|       true|\n",
      "|        13|       Mary|   Baldwin|XXXXXXXXX|XXXXXXXXX|7922 Iron Oak Gar...|       Caguas|   PR|    725|           11|    2024-07-28|9999-12-31|       true|\n",
      "|        14|  Katherine|     Smith|XXXXXXXXX|XXXXXXXXX|5666 Hazy Pony Sq...|  Pico Rivera|   CA|  90660|           12|    2024-07-28|9999-12-31|       true|\n",
      "|        15|       Jane|      Luna|XXXXXXXXX|XXXXXXXXX|    673 Burning Glen|      Fontana|   CA|  92336|           13|    2024-07-28|9999-12-31|       true|\n",
      "|        16|    Tiffany|     Smith|XXXXXXXXX|XXXXXXXXX|      6651 Iron Port|       Caguas|   PR|    725|           14|    2024-07-28|9999-12-31|       true|\n",
      "|        17|       Mary|  Robinson|XXXXXXXXX|XXXXXXXXX|     1325 Noble Pike|       Taylor|   MI|  48180|           15|    2024-07-28|9999-12-31|       true|\n",
      "|        18|     Robert|     Smith|XXXXXXXXX|XXXXXXXXX|2734 Hazy Butterf...|     Martinez|   CA|  94553|           16|    2024-07-28|9999-12-31|       true|\n",
      "|        19|  Stephanie|  Mitchell|XXXXXXXXX|XXXXXXXXX|3543 Red Treasure...|       Caguas|   PR|    725|           17|    2024-07-28|9999-12-31|       true|\n",
      "|        20|       Mary|     Ellis|XXXXXXXXX|XXXXXXXXX|      4703 Old Route|West New York|   NJ|   7093|           18|    2024-07-28|9999-12-31|       true|\n",
      "|        22|     Joseph|     Smith|XXXXXXXXX|XXXXXXXXX|7740 Broad Fox Vi...| North Bergen|   NJ|   7047|           20|    2024-07-28|9999-12-31|       true|\n",
      "|        23|   Benjamin|    Duarte|XXXXXXXXX|XXXXXXXXX|8811 High Horse I...|     San Juan|   PR|    921|           21|    2024-07-28|9999-12-31|       true|\n",
      "|        24|       Mary|     Smith|XXXXXXXXX|XXXXXXXXX| 9417 Emerald Towers|       Caguas|   PR|    725|           22|    2024-07-28|9999-12-31|       true|\n",
      "|        25|       Paul|Richardson|XXXXXXXXX|XXXXXXXXX|318 Merry Creek M...|       Peoria|   AZ|  85345|           23|    2024-07-28|9999-12-31|       true|\n",
      "|        26|     Johnny|      Hood|XXXXXXXXX|XXXXXXXXX|9576 Middle Hills...|     Glenview|   IL|  60025|           24|    2024-07-28|9999-12-31|       true|\n",
      "|        27|       Mary|   Vincent|XXXXXXXXX|XXXXXXXXX|1768 Sleepy Zephy...|       Caguas|   PR|    725|           25|    2024-07-28|9999-12-31|       true|\n",
      "+----------+-----------+----------+---------+---------+--------------------+-------------+-----+-------+-------------+--------------+----------+-----------+\n",
      "only showing top 20 rows\n",
      "\n"
     ]
    }
   ],
   "source": [
    "unchanged_records.show()"
   ]
  },
  {
   "cell_type": "code",
   "execution_count": 79,
   "id": "c06d22d7",
   "metadata": {},
   "outputs": [
    {
     "name": "stdout",
     "output_type": "stream",
     "text": [
      "+----------+---------+--------+---------+---------+---------------+----------+-----+-------+-------------+--------------+----------+-----------+\n",
      "|customerid|firstname|lastname|    email|    phone|        address|      city|state|zipcode|customer_skey|effective_date|  end_date|active_flag|\n",
      "+----------+---------+--------+---------+---------+---------------+----------+-----+-------+-------------+--------------+----------+-----------+\n",
      "|     12436|    Grace|  Parker|XXXXXXXXX|XXXXXXXXX|890 Pine Avenue|Townsville|   TX|  54321|        12434|    2024-07-28|9999-12-31|       true|\n",
      "|     12437|   Connor|   Evans|XXXXXXXXX|XXXXXXXXX| 567 Oak Street|  Cityview|   CA|  98765|        12435|    2024-07-28|9999-12-31|       true|\n",
      "+----------+---------+--------+---------+---------+---------------+----------+-----+-------+-------------+--------------+----------+-----------+\n",
      "\n"
     ]
    }
   ],
   "source": [
    "insert_records = column_renamer(merged_df.filter(col(\"action\") == 'INSERT'), suffix=\"_source\", append=False) \\\n",
    "                .select(customers_source_df.columns)\\\n",
    "                .withColumn(\"row_number\",row_number().over(window_def))\\\n",
    "                .withColumn(\"customer_skey\",col(\"row_number\") + max_sk)\\\n",
    "                .withColumn(\"effective_date\",date_format(current_date(),DATE_FORMAT))\\\n",
    "                .withColumn(\"end_date\",date_format(lit(future_date),DATE_FORMAT))\\\n",
    "                .withColumn(\"active_flag\", lit(True))\\\n",
    "                .drop(\"row_number\")\n",
    "\n",
    "insert_records.show()"
   ]
  },
  {
   "cell_type": "code",
   "execution_count": 80,
   "id": "3cea9490",
   "metadata": {},
   "outputs": [],
   "source": [
    "max_sk = insert_records.agg({\"customer_skey\": \"max\"}).collect()[0][0]"
   ]
  },
  {
   "cell_type": "code",
   "execution_count": 81,
   "id": "2f1333db",
   "metadata": {},
   "outputs": [
    {
     "name": "stdout",
     "output_type": "stream",
     "text": [
      "12435\n"
     ]
    }
   ],
   "source": [
    "print(max_sk)"
   ]
  },
  {
   "cell_type": "code",
   "execution_count": 82,
   "id": "e4282c5c",
   "metadata": {},
   "outputs": [],
   "source": [
    "update_records = column_renamer(merged_df.filter(col(\"action\") == 'UPDATE'), suffix=\"_target\", append=False)\\\n",
    "                .select(active_customers_target_df.columns)\\\n",
    "                .withColumn(\"end_date\", date_format(current_date(),DATE_FORMAT))\\\n",
    "                .withColumn(\"active_flag\", lit(False))\\\n",
    "            .unionByName(\n",
    "            column_renamer(merged_df.filter(col(\"action\") == 'UPDATE'), suffix=\"_source\", append=False)\\\n",
    "                .select(customers_source_df.columns)\\\n",
    "                .withColumn(\"effective_date\",date_format(current_date(),DATE_FORMAT))\\\n",
    "                .withColumn(\"end_date\",date_format(lit(future_date),DATE_FORMAT))\\\n",
    "                .withColumn(\"row_number\",row_number().over(window_def))\\\n",
    "                .withColumn(\"customer_skey\",col(\"row_number\")+ max_sk)\\\n",
    "                .withColumn(\"active_flag\", lit(True))\\\n",
    "                .drop(\"row_number\")\n",
    "                )\n"
   ]
  },
  {
   "cell_type": "code",
   "execution_count": 83,
   "id": "06b605cc",
   "metadata": {},
   "outputs": [
    {
     "name": "stdout",
     "output_type": "stream",
     "text": [
      "+----------+---------+----------+---------+---------+--------------------+-------------+-----+-------+-------------+--------------+----------+-----------+\n",
      "|customerid|firstname|  lastname|    email|    phone|             address|         city|state|zipcode|customer_skey|effective_date|  end_date|active_flag|\n",
      "+----------+---------+----------+---------+---------+--------------------+-------------+-----+-------+-------------+--------------+----------+-----------+\n",
      "|         1|  Richard| Hernandez|XXXXXXXXX|XXXXXXXXX|  6303 Heather Plaza|  Brownsville|   TX|  78521|            1|    2024-07-28|2024-07-28|      false|\n",
      "|         2|     Mary|   Barrett|XXXXXXXXX|XXXXXXXXX|9526 Noble Embers...|    Littleton|   CO|  80126|            2|    2024-07-28|2024-07-28|      false|\n",
      "|         3|      Ann|     Smith|XXXXXXXXX|XXXXXXXXX|3422 Blue Pioneer...|       Caguas|   PR|    725|            3|    2024-07-28|2024-07-28|      false|\n",
      "|         5|   Robert|    Hudson|XXXXXXXXX|XXXXXXXXX|10 Crystal River ...|       Caguas|   PR|    725|            5|    2024-07-28|2024-07-28|      false|\n",
      "|        21|  William| Zimmerman|XXXXXXXXX|XXXXXXXXX|3323 Old Willow Mall|       Caguas|   PR|    725|           19|    2024-07-28|2024-07-28|      false|\n",
      "|       109|     Mary|  Thompson|XXXXXXXXX|XXXXXXXXX|8662 Clear Nectar...|       Caguas|   PR|    725|          107|    2024-07-28|2024-07-28|      false|\n",
      "|       323|   Joshua|     Smith|XXXXXXXXX|XXXXXXXXX|     3758 Sunny Mall|     New York|   NY|  10025|          321|    2024-07-28|2024-07-28|      false|\n",
      "|       470|     Mary|    Cannon|XXXXXXXXX|XXXXXXXXX|    9916 Silent Mall| Far Rockaway|   NY|  11691|          468|    2024-07-28|2024-07-28|      false|\n",
      "|       484|  Shirley|Richardson|XXXXXXXXX|XXXXXXXXX|19 Gentle Shadow ...|  Hyattsville|   MD|  20783|          482|    2024-07-28|2024-07-28|      false|\n",
      "|       637|     Mary|     Smith|XXXXXXXXX|XXXXXXXXX|9879 Lazy Horse Mall|       Caguas|   PR|    725|          635|    2024-07-28|2024-07-28|      false|\n",
      "|       704|     Mary|Mccullough|XXXXXXXXX|XXXXXXXXX|     9972 Rocky Mall|       Caguas|   PR|    725|          702|    2024-07-28|2024-07-28|      false|\n",
      "|       738|     Mary|      Wood|XXXXXXXXX|XXXXXXXXX|      3587 Blue Mall|       Caguas|   PR|    725|          736|    2024-07-28|2024-07-28|      false|\n",
      "|      1215|      Joe|      Hart|XXXXXXXXX|XXXXXXXXX| 7868 Iron Fawn Mall|    Las Vegas|   NV|  89123|         1213|    2024-07-28|2024-07-28|      false|\n",
      "|      1437|     Mary|    Watson|XXXXXXXXX|XXXXXXXXX|  4389 Colonial Mall|       Caguas|   PR|    725|         1435|    2024-07-28|2024-07-28|      false|\n",
      "|      1467|     Mary|   Bradley|XXXXXXXXX|XXXXXXXXX|     3567 Broad Mall|      Phoenix|   AZ|  85035|         1465|    2024-07-28|2024-07-28|      false|\n",
      "|      1537|    Linda|    Murray|XXXXXXXXX|XXXXXXXXX|4951 Misty Pionee...|Pompano Beach|   FL|  33064|         1535|    2024-07-28|2024-07-28|      false|\n",
      "|      1577|     Mary|     Smith|XXXXXXXXX|XXXXXXXXX|    5274 Hidden Mall|       Caguas|   PR|    725|         1575|    2024-07-28|2024-07-28|      false|\n",
      "|      1627|     Mary|  Gonzales|XXXXXXXXX|XXXXXXXXX|7320 Wishing Rise...|       Caguas|   PR|    725|         1625|    2024-07-28|2024-07-28|      false|\n",
      "|      1711|    Jason|     Smith|XXXXXXXXX|XXXXXXXXX|690 Pleasant Autu...|        Salem|   OR|  97301|         1709|    2024-07-28|2024-07-28|      false|\n",
      "|      2164|    Ethan|     Smith|XXXXXXXXX|XXXXXXXXX|     9972 Rocky Mall|       Caguas|   PR|    725|         2162|    2024-07-28|2024-07-28|      false|\n",
      "+----------+---------+----------+---------+---------+--------------------+-------------+-----+-------+-------------+--------------+----------+-----------+\n",
      "only showing top 20 rows\n",
      "\n"
     ]
    }
   ],
   "source": [
    "update_records.show()"
   ]
  },
  {
   "cell_type": "code",
   "execution_count": 84,
   "id": "89cc5a10",
   "metadata": {},
   "outputs": [],
   "source": [
    "max_sk = update_records.agg({\"customer_skey\": \"max\"}).collect()[0][0]"
   ]
  },
  {
   "cell_type": "code",
   "execution_count": 85,
   "id": "17226598",
   "metadata": {},
   "outputs": [
    {
     "name": "stdout",
     "output_type": "stream",
     "text": [
      "12535\n"
     ]
    }
   ],
   "source": [
    "print(max_sk)"
   ]
  },
  {
   "cell_type": "code",
   "execution_count": 86,
   "id": "0e4cb067",
   "metadata": {},
   "outputs": [
    {
     "name": "stdout",
     "output_type": "stream",
     "text": [
      "+----------+---------+--------+---------+---------+----------------+-----------+-----+-------+-------------+--------------+----------+-----------+\n",
      "|customerid|firstname|lastname|    email|    phone|         address|       city|state|zipcode|customer_skey|effective_date|  end_date|active_flag|\n",
      "+----------+---------+--------+---------+---------+----------------+-----------+-----+-------+-------------+--------------+----------+-----------+\n",
      "|     12435|    Laura|  Horton|XXXXXXXXX|XXXXXXXXX|5736 Honey Downs|Summerville|   SC|  29483|        12433|    2024-07-28|2024-07-28|      false|\n",
      "+----------+---------+--------+---------+---------+----------------+-----------+-----+-------+-------------+--------------+----------+-----------+\n",
      "\n"
     ]
    }
   ],
   "source": [
    "delete_records = column_renamer(merged_df.filter(col(\"action\") == 'DELETE'), suffix=\"_target\", append=False)\\\n",
    "                .select(active_customers_target_df.columns)\\\n",
    "                .withColumn(\"end_date\", date_format(current_date(),DATE_FORMAT))\\\n",
    "                .withColumn(\"active_flag\", lit(False))\n",
    "\n",
    "delete_records.show()"
   ]
  },
  {
   "cell_type": "code",
   "execution_count": 87,
   "id": "f1cd8ed8",
   "metadata": {},
   "outputs": [
    {
     "name": "stdout",
     "output_type": "stream",
     "text": [
      "+----------+-----------+----------+---------+---------+--------------------+-------------+-----+-------+-------------+--------------+----------+-----------+\n",
      "|customerid|  firstname|  lastname|    email|    phone|             address|         city|state|zipcode|customer_skey|effective_date|  end_date|active_flag|\n",
      "+----------+-----------+----------+---------+---------+--------------------+-------------+-----+-------+-------------+--------------+----------+-----------+\n",
      "|         4|       Mary|     Jones|XXXXXXXXX|XXXXXXXXX|  8324 Little Common|   San Marcos|   CA|  92069|            4|    2024-07-28|9999-12-31|       true|\n",
      "|         6|       Mary|     Smith|XXXXXXXXX|XXXXXXXXX|3151 Sleepy Quail...|      Passaic|   NJ|   7055|            6|    2024-07-28|9999-12-31|       true|\n",
      "|         7|    Melissa|    Wilcox|XXXXXXXXX|XXXXXXXXX|9453 High Concession|       Caguas|   PR|    725|            7|    2024-07-28|9999-12-31|       true|\n",
      "|        10|    Melissa|     Smith|XXXXXXXXX|XXXXXXXXX|8598 Harvest Beac...|     Stafford|   VA|  22554|            8|    2024-07-28|9999-12-31|       true|\n",
      "|        11|       Mary|   Huffman|XXXXXXXXX|XXXXXXXXX|    3169 Stony Woods|       Caguas|   PR|    725|            9|    2024-07-28|9999-12-31|       true|\n",
      "|        12|Christopher|     Smith|XXXXXXXXX|XXXXXXXXX|5594 Jagged Ember...|  San Antonio|   TX|  78227|           10|    2024-07-28|9999-12-31|       true|\n",
      "|        13|       Mary|   Baldwin|XXXXXXXXX|XXXXXXXXX|7922 Iron Oak Gar...|       Caguas|   PR|    725|           11|    2024-07-28|9999-12-31|       true|\n",
      "|        14|  Katherine|     Smith|XXXXXXXXX|XXXXXXXXX|5666 Hazy Pony Sq...|  Pico Rivera|   CA|  90660|           12|    2024-07-28|9999-12-31|       true|\n",
      "|        15|       Jane|      Luna|XXXXXXXXX|XXXXXXXXX|    673 Burning Glen|      Fontana|   CA|  92336|           13|    2024-07-28|9999-12-31|       true|\n",
      "|        16|    Tiffany|     Smith|XXXXXXXXX|XXXXXXXXX|      6651 Iron Port|       Caguas|   PR|    725|           14|    2024-07-28|9999-12-31|       true|\n",
      "|        17|       Mary|  Robinson|XXXXXXXXX|XXXXXXXXX|     1325 Noble Pike|       Taylor|   MI|  48180|           15|    2024-07-28|9999-12-31|       true|\n",
      "|        18|     Robert|     Smith|XXXXXXXXX|XXXXXXXXX|2734 Hazy Butterf...|     Martinez|   CA|  94553|           16|    2024-07-28|9999-12-31|       true|\n",
      "|        19|  Stephanie|  Mitchell|XXXXXXXXX|XXXXXXXXX|3543 Red Treasure...|       Caguas|   PR|    725|           17|    2024-07-28|9999-12-31|       true|\n",
      "|        20|       Mary|     Ellis|XXXXXXXXX|XXXXXXXXX|      4703 Old Route|West New York|   NJ|   7093|           18|    2024-07-28|9999-12-31|       true|\n",
      "|        22|     Joseph|     Smith|XXXXXXXXX|XXXXXXXXX|7740 Broad Fox Vi...| North Bergen|   NJ|   7047|           20|    2024-07-28|9999-12-31|       true|\n",
      "|        23|   Benjamin|    Duarte|XXXXXXXXX|XXXXXXXXX|8811 High Horse I...|     San Juan|   PR|    921|           21|    2024-07-28|9999-12-31|       true|\n",
      "|        24|       Mary|     Smith|XXXXXXXXX|XXXXXXXXX| 9417 Emerald Towers|       Caguas|   PR|    725|           22|    2024-07-28|9999-12-31|       true|\n",
      "|        25|       Paul|Richardson|XXXXXXXXX|XXXXXXXXX|318 Merry Creek M...|       Peoria|   AZ|  85345|           23|    2024-07-28|9999-12-31|       true|\n",
      "|        26|     Johnny|      Hood|XXXXXXXXX|XXXXXXXXX|9576 Middle Hills...|     Glenview|   IL|  60025|           24|    2024-07-28|9999-12-31|       true|\n",
      "|        27|       Mary|   Vincent|XXXXXXXXX|XXXXXXXXX|1768 Sleepy Zephy...|       Caguas|   PR|    725|           25|    2024-07-28|9999-12-31|       true|\n",
      "+----------+-----------+----------+---------+---------+--------------------+-------------+-----+-------+-------------+--------------+----------+-----------+\n",
      "only showing top 20 rows\n",
      "\n"
     ]
    }
   ],
   "source": [
    "resultant_df = inactive_customers_target_df \\\n",
    "            .unionByName(unchanged_records)\\\n",
    "            .unionByName(insert_records)\\\n",
    "            .unionByName(update_records)\\\n",
    "            .unionByName(delete_records)\n",
    "\n",
    "resultant_df.show()"
   ]
  },
  {
   "cell_type": "code",
   "execution_count": 88,
   "id": "23bcb2b2",
   "metadata": {},
   "outputs": [],
   "source": [
    "spark.stop()"
   ]
  },
  {
   "cell_type": "code",
   "execution_count": null,
   "id": "dcbb432f",
   "metadata": {},
   "outputs": [],
   "source": []
  }
 ],
 "metadata": {
  "kernelspec": {
   "display_name": "Python 3",
   "language": "python",
   "name": "python3"
  },
  "language_info": {
   "codemirror_mode": {
    "name": "ipython",
    "version": 3
   },
   "file_extension": ".py",
   "mimetype": "text/x-python",
   "name": "python",
   "nbconvert_exporter": "python",
   "pygments_lexer": "ipython3",
   "version": "3.10.6"
  }
 },
 "nbformat": 4,
 "nbformat_minor": 5
}
