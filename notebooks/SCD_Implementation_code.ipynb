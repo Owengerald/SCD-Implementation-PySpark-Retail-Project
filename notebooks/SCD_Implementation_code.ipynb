{
 "cells": [
  {
   "cell_type": "code",
   "execution_count": 187,
   "id": "526ac871",
   "metadata": {},
   "outputs": [],
   "source": [
    "from pyspark.sql.functions import * \n",
    "from pyspark.sql.window import Window\n",
    "from pyspark.sql import SparkSession"
   ]
  },
  {
   "cell_type": "code",
   "execution_count": 188,
   "id": "53998375",
   "metadata": {},
   "outputs": [],
   "source": [
    "spark = SparkSession.builder \\\n",
    "        .appName(\"SCD Implementation application\") \\\n",
    "        .config(\"spark.sql.shuffle.partitions\",3) \\\n",
    "        .master(\"local[2]\") \\\n",
    "        .getOrCreate()"
   ]
  },
  {
   "cell_type": "code",
   "execution_count": 189,
   "id": "a5c3636d",
   "metadata": {},
   "outputs": [],
   "source": [
    "DATE_FORMAT = \"yyyy-MM-dd\"\n",
    "future_date = \"9999-12-31\"\n",
    "source_url = \"/user/itv005857/scd_demo/source\"\n",
    "destination_url = \"/user/itv005857/scd_demo/target\"\n",
    "primary_key = [\"customerid\"]\n",
    "slowly_changing_cols = [ \"email\",\"phone\",\"address\", \"city\", \"state\", \"zipcode\"]\n",
    "implementation_cols = [\"effective_date\",\"end_date\",\"active_flag\"]"
   ]
  },
  {
   "cell_type": "code",
   "execution_count": 190,
   "id": "76962498",
   "metadata": {},
   "outputs": [],
   "source": [
    "customers_source_schema = \"customerid long,firstname string, lastname string, email string, phone string, address string, city string, state string, zipcode long\""
   ]
  },
  {
   "cell_type": "code",
   "execution_count": 191,
   "id": "e58dd178",
   "metadata": {},
   "outputs": [],
   "source": [
    "customers_target_schema = \"customerid long,firstname string, lastname string, email string, phone string, address string, city string, state string, zipcode long, customer_skey long, effective_date date, end_date date, active_flag boolean\""
   ]
  },
  {
   "cell_type": "code",
   "execution_count": 192,
   "id": "806d0838",
   "metadata": {},
   "outputs": [],
   "source": [
    "customers_source_df = spark.read \\\n",
    ".format(\"csv\") \\\n",
    ".option(\"header\",True) \\\n",
    ".schema(customers_source_schema) \\\n",
    ".load(source_url)"
   ]
  },
  {
   "cell_type": "code",
   "execution_count": 193,
   "id": "fe664a51",
   "metadata": {},
   "outputs": [
    {
     "name": "stdout",
     "output_type": "stream",
     "text": [
      "+----------+-----------+--------+--------------------+--------+-------------+----------+-----+-------+\n",
      "|customerid|  firstname|lastname|               email|   phone|      address|      city|state|zipcode|\n",
      "+----------+-----------+--------+--------------------+--------+-------------+----------+-----+-------+\n",
      "|         1|       John|     Doe|   johndoe@gmail.com|555-1234|  123 Main St|   Anytown|   CA|  12345|\n",
      "|         2|       Jane|   Smith| janesmith@email.com|555-5679|  456 Oak Ave|  Sometown|   NY|  67890|\n",
      "|         3|     Robert| Johnson|robertjohnson@ema...|555-8765|   123 Elm Ln|Harborcity|   FL|  87654|\n",
      "|         4|      Alice|Williams|alicewilliams@ema...|555-4321| 234 Cedar Dr|  Yourtown|   FL|  89012|\n",
      "|         5|    Michael|   Brown|michaelbrown@emai...|555-9876| 567 Elm Blvd| Theirtown|   IL|  45678|\n",
      "|         6|      Emily|  Miller|emilymiller@email...|555-6543| 890 Birch Rd|   Newcity|   WA|  23456|\n",
      "|         7|      David|   Jones|davidjones@email.com|555-2345|678 Maple Ave|  Yourcity|   GA|  78901|\n",
      "|         8|      Sarah|Anderson|sarahanderson@ema...|555-5432|  901 Pine St|  Heretown|   OH|  56789|\n",
      "|         9|Christopher|  Taylor|christophertaylor...|555-8765|   234 Oak Ln|  Thistown|   PA|  12345|\n",
      "|        11|      Grace|  Turner|graceturner@email...|555-1122|   567 Oak St|  Cityview|   CA|  98765|\n",
      "|        12|     Connor|   Evans|connorevans@email...|555-2233| 890 Pine Ave|Townsville|   TX|  54321|\n",
      "+----------+-----------+--------+--------------------+--------+-------------+----------+-----+-------+\n",
      "\n"
     ]
    }
   ],
   "source": [
    "customers_source_df.show()"
   ]
  },
  {
   "cell_type": "code",
   "execution_count": 195,
   "id": "d0867654",
   "metadata": {},
   "outputs": [],
   "source": [
    "window_def = Window.orderBy(\"customerid\")"
   ]
  },
  {
   "cell_type": "code",
   "execution_count": 196,
   "id": "0d864748",
   "metadata": {},
   "outputs": [],
   "source": [
    "enhanced_customers_source_df = spark.read \\\n",
    ".format(\"csv\") \\\n",
    ".option(\"header\",True) \\\n",
    ".schema(customers_source_schema) \\\n",
    ".load(source_url) \\\n",
    ".withColumn(\"customer_skey\",row_number().over(window_def)) \\\n",
    ".withColumn(\"effective_date\",date_format(current_date(), DATE_FORMAT)) \\\n",
    ".withColumn(\"end_date\",date_format(lit(future_date), DATE_FORMAT)) \\\n",
    ".withColumn(\"active_flag\", lit(True))"
   ]
  },
  {
   "cell_type": "code",
   "execution_count": 168,
   "id": "132db1af",
   "metadata": {},
   "outputs": [
    {
     "name": "stdout",
     "output_type": "stream",
     "text": [
      "+----------+-----------+--------+--------------------+--------+-------------+----------+-----+-------+-------------+--------------+----------+-----------+\n",
      "|customerid|  firstname|lastname|               email|   phone|      address|      city|state|zipcode|customer_skey|effective_date|  end_date|active_flag|\n",
      "+----------+-----------+--------+--------------------+--------+-------------+----------+-----+-------+-------------+--------------+----------+-----------+\n",
      "|         1|       John|     Doe|   johndoe@gmail.com|555-1234|  123 Main St|   Anytown|   CA|  12345|            1|    2024-02-13|9999-12-31|       true|\n",
      "|         2|       Jane|   Smith| janesmith@email.com|555-5679|  456 Oak Ave|  Sometown|   NY|  67890|            2|    2024-02-13|9999-12-31|       true|\n",
      "|         3|     Robert| Johnson|robertjohnson@ema...|555-8765|   123 Elm Ln|Harborcity|   FL|  87654|            3|    2024-02-13|9999-12-31|       true|\n",
      "|         4|      Alice|Williams|alicewilliams@ema...|555-4321| 234 Cedar Dr|  Yourtown|   FL|  89012|            4|    2024-02-13|9999-12-31|       true|\n",
      "|         5|    Michael|   Brown|michaelbrown@emai...|555-9876| 567 Elm Blvd| Theirtown|   IL|  45678|            5|    2024-02-13|9999-12-31|       true|\n",
      "|         6|      Emily|  Miller|emilymiller@email...|555-6543| 890 Birch Rd|   Newcity|   WA|  23456|            6|    2024-02-13|9999-12-31|       true|\n",
      "|         7|      David|   Jones|davidjones@email.com|555-2345|678 Maple Ave|  Yourcity|   GA|  78901|            7|    2024-02-13|9999-12-31|       true|\n",
      "|         8|      Sarah|Anderson|sarahanderson@ema...|555-5432|  901 Pine St|  Heretown|   OH|  56789|            8|    2024-02-13|9999-12-31|       true|\n",
      "|         9|Christopher|  Taylor|christophertaylor...|555-8765|   234 Oak Ln|  Thistown|   PA|  12345|            9|    2024-02-13|9999-12-31|       true|\n",
      "|        11|      Grace|  Turner|graceturner@email...|555-1122|   567 Oak St|  Cityview|   CA|  98765|           10|    2024-02-13|9999-12-31|       true|\n",
      "|        12|     Connor|   Evans|connorevans@email...|555-2233| 890 Pine Ave|Townsville|   TX|  54321|           11|    2024-02-13|9999-12-31|       true|\n",
      "+----------+-----------+--------+--------------------+--------+-------------+----------+-----+-------+-------------+--------------+----------+-----------+\n",
      "\n"
     ]
    }
   ],
   "source": [
    "enhanced_customers_source_df.show()"
   ]
  },
  {
   "cell_type": "code",
   "execution_count": 128,
   "id": "fdc21b78",
   "metadata": {},
   "outputs": [],
   "source": [
    "enhanced_customers_source_df.write.mode('overwrite') \\\n",
    ".option(\"header\",True) \\\n",
    ".option(\"delimiter\",\",\") \\\n",
    ".csv(destination_url)"
   ]
  },
  {
   "cell_type": "code",
   "execution_count": 197,
   "id": "32d6c0a2",
   "metadata": {},
   "outputs": [],
   "source": [
    "customers_target_df = spark.read \\\n",
    ".format(\"csv\") \\\n",
    ".option(\"header\",True) \\\n",
    ".schema(customers_target_schema) \\\n",
    ".load(destination_url)"
   ]
  },
  {
   "cell_type": "code",
   "execution_count": 198,
   "id": "ec2a217e",
   "metadata": {},
   "outputs": [
    {
     "name": "stdout",
     "output_type": "stream",
     "text": [
      "+----------+-----------+--------+--------------------+--------+-------------+---------+-----+-------+-------------+--------------+----------+-----------+\n",
      "|customerid|  firstname|lastname|               email|   phone|      address|     city|state|zipcode|customer_skey|effective_date|  end_date|active_flag|\n",
      "+----------+-----------+--------+--------------------+--------+-------------+---------+-----+-------+-------------+--------------+----------+-----------+\n",
      "|         1|       John|     Doe|   johndoe@email.com|555-1234|  123 Main St|  Anytown|   CA|  12345|            1|    2024-02-13|9999-12-31|       true|\n",
      "|         2|       Jane|   Smith| janesmith@email.com|555-5678|  456 Oak Ave| Sometown|   NY|  67890|            2|    2024-02-13|9999-12-31|       true|\n",
      "|         3|     Robert| Johnson|robertjohnson@ema...|555-8765|  789 Pine Ln|Othercity|   TX|  34567|            3|    2024-02-13|9999-12-31|       true|\n",
      "|         4|      Alice|Williams|alicewilliams@ema...|555-4321| 234 Cedar Dr| Yourtown|   FL|  89012|            4|    2024-02-13|9999-12-31|       true|\n",
      "|         5|    Michael|   Brown|michaelbrown@emai...|555-9876| 567 Elm Blvd|Theirtown|   IL|  45678|            5|    2024-02-13|9999-12-31|       true|\n",
      "|         6|      Emily|  Miller|emilymiller@email...|555-6543| 890 Birch Rd|  Newcity|   WA|  23456|            6|    2024-02-13|9999-12-31|       true|\n",
      "|         7|      David|   Jones|davidjones@email.com|555-2345|678 Maple Ave| Yourcity|   GA|  78901|            7|    2024-02-13|9999-12-31|       true|\n",
      "|         8|      Sarah|Anderson|sarahanderson@ema...|555-5432|  901 Pine St| Heretown|   OH|  56789|            8|    2024-02-13|9999-12-31|       true|\n",
      "|         9|Christopher|  Taylor|christophertaylor...|555-8765|   234 Oak Ln| Thistown|   PA|  12345|            9|    2024-02-13|9999-12-31|       true|\n",
      "|        10|     Olivia|   Clark|oliviaclark@email...|555-3456|567 Cedar Ave| Thatcity|   TN|  67890|           10|    2024-02-13|9999-12-31|       true|\n",
      "+----------+-----------+--------+--------------------+--------+-------------+---------+-----+-------+-------------+--------------+----------+-----------+\n",
      "\n"
     ]
    }
   ],
   "source": [
    "customers_target_df.show()"
   ]
  },
  {
   "cell_type": "code",
   "execution_count": 199,
   "id": "312e99b1",
   "metadata": {},
   "outputs": [
    {
     "name": "stdout",
     "output_type": "stream",
     "text": [
      "+----------+-----------+--------+--------------------+--------+-------------+----------+-----+-------+\n",
      "|customerid|  firstname|lastname|               email|   phone|      address|      city|state|zipcode|\n",
      "+----------+-----------+--------+--------------------+--------+-------------+----------+-----+-------+\n",
      "|         1|       John|     Doe|   johndoe@gmail.com|555-1234|  123 Main St|   Anytown|   CA|  12345|\n",
      "|         2|       Jane|   Smith| janesmith@email.com|555-5679|  456 Oak Ave|  Sometown|   NY|  67890|\n",
      "|         3|     Robert| Johnson|robertjohnson@ema...|555-8765|   123 Elm Ln|Harborcity|   FL|  87654|\n",
      "|         4|      Alice|Williams|alicewilliams@ema...|555-4321| 234 Cedar Dr|  Yourtown|   FL|  89012|\n",
      "|         5|    Michael|   Brown|michaelbrown@emai...|555-9876| 567 Elm Blvd| Theirtown|   IL|  45678|\n",
      "|         6|      Emily|  Miller|emilymiller@email...|555-6543| 890 Birch Rd|   Newcity|   WA|  23456|\n",
      "|         7|      David|   Jones|davidjones@email.com|555-2345|678 Maple Ave|  Yourcity|   GA|  78901|\n",
      "|         8|      Sarah|Anderson|sarahanderson@ema...|555-5432|  901 Pine St|  Heretown|   OH|  56789|\n",
      "|         9|Christopher|  Taylor|christophertaylor...|555-8765|   234 Oak Ln|  Thistown|   PA|  12345|\n",
      "|        11|      Grace|  Turner|graceturner@email...|555-1122|   567 Oak St|  Cityview|   CA|  98765|\n",
      "|        12|     Connor|   Evans|connorevans@email...|555-2233| 890 Pine Ave|Townsville|   TX|  54321|\n",
      "+----------+-----------+--------+--------------------+--------+-------------+----------+-----+-------+\n",
      "\n"
     ]
    }
   ],
   "source": [
    "customers_source_df.show()"
   ]
  },
  {
   "cell_type": "code",
   "execution_count": 200,
   "id": "e7c94b90",
   "metadata": {},
   "outputs": [],
   "source": [
    "max_sk = customers_target_df.agg({\"customer_skey\": \"max\"}).collect()[0][0]"
   ]
  },
  {
   "cell_type": "code",
   "execution_count": 201,
   "id": "8a4b8faf",
   "metadata": {},
   "outputs": [
    {
     "name": "stdout",
     "output_type": "stream",
     "text": [
      "10\n"
     ]
    }
   ],
   "source": [
    "print(max_sk)"
   ]
  },
  {
   "cell_type": "code",
   "execution_count": 202,
   "id": "37d1bfab",
   "metadata": {},
   "outputs": [],
   "source": [
    "active_customers_target_df = customers_target_df.where(col(\"active_flag\")==True)"
   ]
  },
  {
   "cell_type": "code",
   "execution_count": 203,
   "id": "7b5bad81",
   "metadata": {},
   "outputs": [],
   "source": [
    "inactive_customers_target_df = customers_target_df.where(col(\"active_flag\")==False)"
   ]
  },
  {
   "cell_type": "code",
   "execution_count": 204,
   "id": "f9038ec6",
   "metadata": {},
   "outputs": [
    {
     "name": "stdout",
     "output_type": "stream",
     "text": [
      "+----------+-----------+--------+--------------------+--------+-------------+---------+-----+-------+-------------+--------------+----------+-----------+\n",
      "|customerid|  firstname|lastname|               email|   phone|      address|     city|state|zipcode|customer_skey|effective_date|  end_date|active_flag|\n",
      "+----------+-----------+--------+--------------------+--------+-------------+---------+-----+-------+-------------+--------------+----------+-----------+\n",
      "|         1|       John|     Doe|   johndoe@email.com|555-1234|  123 Main St|  Anytown|   CA|  12345|            1|    2024-02-13|9999-12-31|       true|\n",
      "|         2|       Jane|   Smith| janesmith@email.com|555-5678|  456 Oak Ave| Sometown|   NY|  67890|            2|    2024-02-13|9999-12-31|       true|\n",
      "|         3|     Robert| Johnson|robertjohnson@ema...|555-8765|  789 Pine Ln|Othercity|   TX|  34567|            3|    2024-02-13|9999-12-31|       true|\n",
      "|         4|      Alice|Williams|alicewilliams@ema...|555-4321| 234 Cedar Dr| Yourtown|   FL|  89012|            4|    2024-02-13|9999-12-31|       true|\n",
      "|         5|    Michael|   Brown|michaelbrown@emai...|555-9876| 567 Elm Blvd|Theirtown|   IL|  45678|            5|    2024-02-13|9999-12-31|       true|\n",
      "|         6|      Emily|  Miller|emilymiller@email...|555-6543| 890 Birch Rd|  Newcity|   WA|  23456|            6|    2024-02-13|9999-12-31|       true|\n",
      "|         7|      David|   Jones|davidjones@email.com|555-2345|678 Maple Ave| Yourcity|   GA|  78901|            7|    2024-02-13|9999-12-31|       true|\n",
      "|         8|      Sarah|Anderson|sarahanderson@ema...|555-5432|  901 Pine St| Heretown|   OH|  56789|            8|    2024-02-13|9999-12-31|       true|\n",
      "|         9|Christopher|  Taylor|christophertaylor...|555-8765|   234 Oak Ln| Thistown|   PA|  12345|            9|    2024-02-13|9999-12-31|       true|\n",
      "|        10|     Olivia|   Clark|oliviaclark@email...|555-3456|567 Cedar Ave| Thatcity|   TN|  67890|           10|    2024-02-13|9999-12-31|       true|\n",
      "+----------+-----------+--------+--------------------+--------+-------------+---------+-----+-------+-------------+--------------+----------+-----------+\n",
      "\n"
     ]
    }
   ],
   "source": [
    "active_customers_target_df.show()"
   ]
  },
  {
   "cell_type": "code",
   "execution_count": 205,
   "id": "1f10dfc2",
   "metadata": {},
   "outputs": [
    {
     "name": "stdout",
     "output_type": "stream",
     "text": [
      "+----------+-----------+--------+--------------------+--------+-------------+---------+-----+-------+-------------+--------------+----------+-----------+-----------+--------+--------------------+--------+-------------+----------+-----+-------+\n",
      "|customerid|  firstname|lastname|               email|   phone|      address|     city|state|zipcode|customer_skey|effective_date|  end_date|active_flag|  firstname|lastname|               email|   phone|      address|      city|state|zipcode|\n",
      "+----------+-----------+--------+--------------------+--------+-------------+---------+-----+-------+-------------+--------------+----------+-----------+-----------+--------+--------------------+--------+-------------+----------+-----+-------+\n",
      "|         7|      David|   Jones|davidjones@email.com|555-2345|678 Maple Ave| Yourcity|   GA|  78901|            7|    2024-02-13|9999-12-31|       true|      David|   Jones|davidjones@email.com|555-2345|678 Maple Ave|  Yourcity|   GA|  78901|\n",
      "|         6|      Emily|  Miller|emilymiller@email...|555-6543| 890 Birch Rd|  Newcity|   WA|  23456|            6|    2024-02-13|9999-12-31|       true|      Emily|  Miller|emilymiller@email...|555-6543| 890 Birch Rd|   Newcity|   WA|  23456|\n",
      "|         9|Christopher|  Taylor|christophertaylor...|555-8765|   234 Oak Ln| Thistown|   PA|  12345|            9|    2024-02-13|9999-12-31|       true|Christopher|  Taylor|christophertaylor...|555-8765|   234 Oak Ln|  Thistown|   PA|  12345|\n",
      "|         5|    Michael|   Brown|michaelbrown@emai...|555-9876| 567 Elm Blvd|Theirtown|   IL|  45678|            5|    2024-02-13|9999-12-31|       true|    Michael|   Brown|michaelbrown@emai...|555-9876| 567 Elm Blvd| Theirtown|   IL|  45678|\n",
      "|         1|       John|     Doe|   johndoe@email.com|555-1234|  123 Main St|  Anytown|   CA|  12345|            1|    2024-02-13|9999-12-31|       true|       John|     Doe|   johndoe@gmail.com|555-1234|  123 Main St|   Anytown|   CA|  12345|\n",
      "|        10|     Olivia|   Clark|oliviaclark@email...|555-3456|567 Cedar Ave| Thatcity|   TN|  67890|           10|    2024-02-13|9999-12-31|       true|       null|    null|                null|    null|         null|      null| null|   null|\n",
      "|         3|     Robert| Johnson|robertjohnson@ema...|555-8765|  789 Pine Ln|Othercity|   TX|  34567|            3|    2024-02-13|9999-12-31|       true|     Robert| Johnson|robertjohnson@ema...|555-8765|   123 Elm Ln|Harborcity|   FL|  87654|\n",
      "|        12|       null|    null|                null|    null|         null|     null| null|   null|         null|          null|      null|       null|     Connor|   Evans|connorevans@email...|555-2233| 890 Pine Ave|Townsville|   TX|  54321|\n",
      "|         8|      Sarah|Anderson|sarahanderson@ema...|555-5432|  901 Pine St| Heretown|   OH|  56789|            8|    2024-02-13|9999-12-31|       true|      Sarah|Anderson|sarahanderson@ema...|555-5432|  901 Pine St|  Heretown|   OH|  56789|\n",
      "|        11|       null|    null|                null|    null|         null|     null| null|   null|         null|          null|      null|       null|      Grace|  Turner|graceturner@email...|555-1122|   567 Oak St|  Cityview|   CA|  98765|\n",
      "|         2|       Jane|   Smith| janesmith@email.com|555-5678|  456 Oak Ave| Sometown|   NY|  67890|            2|    2024-02-13|9999-12-31|       true|       Jane|   Smith| janesmith@email.com|555-5679|  456 Oak Ave|  Sometown|   NY|  67890|\n",
      "|         4|      Alice|Williams|alicewilliams@ema...|555-4321| 234 Cedar Dr| Yourtown|   FL|  89012|            4|    2024-02-13|9999-12-31|       true|      Alice|Williams|alicewilliams@ema...|555-4321| 234 Cedar Dr|  Yourtown|   FL|  89012|\n",
      "+----------+-----------+--------+--------------------+--------+-------------+---------+-----+-------+-------------+--------------+----------+-----------+-----------+--------+--------------------+--------+-------------+----------+-----+-------+\n",
      "\n"
     ]
    }
   ],
   "source": [
    "active_customers_target_df.join(customers_source_df, \"customerid\" , \"full_outer\").show()"
   ]
  },
  {
   "cell_type": "code",
   "execution_count": 206,
   "id": "88faab38",
   "metadata": {},
   "outputs": [],
   "source": [
    "def column_renamer(df, suffix, append):\n",
    "   \n",
    "    if append:\n",
    "        new_column_names = list(map(lambda x: x+suffix, df.columns))\n",
    "        \n",
    "    else:\n",
    "        new_column_names = list(map(lambda x: x.replace(suffix,\"\"), df.columns))\n",
    "        \n",
    "    return df.toDF(*new_column_names)\n",
    "\n",
    "def get_hash(df, keys_list):\n",
    " \n",
    "    columns = [col(column) for column in keys_list]\n",
    "    \n",
    "    if columns:\n",
    "        return df.withColumn(\"hash_md5\", md5(concat_ws(\"\", *columns)))\n",
    "    else:\n",
    "        return df.withColumn(\"hash_md5\", md5(lit(1)))\n"
   ]
  },
  {
   "cell_type": "code",
   "execution_count": 207,
   "id": "045b718f",
   "metadata": {},
   "outputs": [],
   "source": [
    "active_customers_target_df_hash = column_renamer(get_hash(active_customers_target_df, slowly_changing_cols), suffix=\"_target\", append=True)\n",
    "customers_source_df_hash = column_renamer(get_hash(customers_source_df, slowly_changing_cols), suffix=\"_source\", append=True)\n"
   ]
  },
  {
   "cell_type": "code",
   "execution_count": 208,
   "id": "4c41d795",
   "metadata": {},
   "outputs": [
    {
     "name": "stdout",
     "output_type": "stream",
     "text": [
      "+-----------------+----------------+---------------+--------------------+------------+--------------+-----------+------------+--------------+--------------------+---------------------+---------------+------------------+--------------------+\n",
      "|customerid_target|firstname_target|lastname_target|        email_target|phone_target|address_target|city_target|state_target|zipcode_target|customer_skey_target|effective_date_target|end_date_target|active_flag_target|     hash_md5_target|\n",
      "+-----------------+----------------+---------------+--------------------+------------+--------------+-----------+------------+--------------+--------------------+---------------------+---------------+------------------+--------------------+\n",
      "|                1|            John|            Doe|   johndoe@email.com|    555-1234|   123 Main St|    Anytown|          CA|         12345|                   1|           2024-02-13|     9999-12-31|              true|31ddb0d8a5baa88cc...|\n",
      "|                2|            Jane|          Smith| janesmith@email.com|    555-5678|   456 Oak Ave|   Sometown|          NY|         67890|                   2|           2024-02-13|     9999-12-31|              true|b1604de584bc896a6...|\n",
      "|                3|          Robert|        Johnson|robertjohnson@ema...|    555-8765|   789 Pine Ln|  Othercity|          TX|         34567|                   3|           2024-02-13|     9999-12-31|              true|42617f9cd36cd4217...|\n",
      "|                4|           Alice|       Williams|alicewilliams@ema...|    555-4321|  234 Cedar Dr|   Yourtown|          FL|         89012|                   4|           2024-02-13|     9999-12-31|              true|0ade7a14143c23d4a...|\n",
      "|                5|         Michael|          Brown|michaelbrown@emai...|    555-9876|  567 Elm Blvd|  Theirtown|          IL|         45678|                   5|           2024-02-13|     9999-12-31|              true|7f42a2317bdd347da...|\n",
      "|                6|           Emily|         Miller|emilymiller@email...|    555-6543|  890 Birch Rd|    Newcity|          WA|         23456|                   6|           2024-02-13|     9999-12-31|              true|feecf783e7bb08532...|\n",
      "|                7|           David|          Jones|davidjones@email.com|    555-2345| 678 Maple Ave|   Yourcity|          GA|         78901|                   7|           2024-02-13|     9999-12-31|              true|dc8da3bef6a74b542...|\n",
      "|                8|           Sarah|       Anderson|sarahanderson@ema...|    555-5432|   901 Pine St|   Heretown|          OH|         56789|                   8|           2024-02-13|     9999-12-31|              true|040a8daf34580442c...|\n",
      "|                9|     Christopher|         Taylor|christophertaylor...|    555-8765|    234 Oak Ln|   Thistown|          PA|         12345|                   9|           2024-02-13|     9999-12-31|              true|9f1a5e7d23ec6c6fc...|\n",
      "|               10|          Olivia|          Clark|oliviaclark@email...|    555-3456| 567 Cedar Ave|   Thatcity|          TN|         67890|                  10|           2024-02-13|     9999-12-31|              true|c0e41364b85d0729f...|\n",
      "+-----------------+----------------+---------------+--------------------+------------+--------------+-----------+------------+--------------+--------------------+---------------------+---------------+------------------+--------------------+\n",
      "\n"
     ]
    }
   ],
   "source": [
    "active_customers_target_df_hash.show()"
   ]
  },
  {
   "cell_type": "code",
   "execution_count": 209,
   "id": "518a1a17",
   "metadata": {},
   "outputs": [
    {
     "name": "stdout",
     "output_type": "stream",
     "text": [
      "+-----------------+----------------+---------------+--------------------+------------+--------------+-----------+------------+--------------+--------------------+\n",
      "|customerid_source|firstname_source|lastname_source|        email_source|phone_source|address_source|city_source|state_source|zipcode_source|     hash_md5_source|\n",
      "+-----------------+----------------+---------------+--------------------+------------+--------------+-----------+------------+--------------+--------------------+\n",
      "|                1|            John|            Doe|   johndoe@gmail.com|    555-1234|   123 Main St|    Anytown|          CA|         12345|8db85f2fdc7c5c1e4...|\n",
      "|                2|            Jane|          Smith| janesmith@email.com|    555-5679|   456 Oak Ave|   Sometown|          NY|         67890|4b77ad952717438be...|\n",
      "|                3|          Robert|        Johnson|robertjohnson@ema...|    555-8765|    123 Elm Ln| Harborcity|          FL|         87654|e194f30cc658c18bf...|\n",
      "|                4|           Alice|       Williams|alicewilliams@ema...|    555-4321|  234 Cedar Dr|   Yourtown|          FL|         89012|0ade7a14143c23d4a...|\n",
      "|                5|         Michael|          Brown|michaelbrown@emai...|    555-9876|  567 Elm Blvd|  Theirtown|          IL|         45678|7f42a2317bdd347da...|\n",
      "|                6|           Emily|         Miller|emilymiller@email...|    555-6543|  890 Birch Rd|    Newcity|          WA|         23456|feecf783e7bb08532...|\n",
      "|                7|           David|          Jones|davidjones@email.com|    555-2345| 678 Maple Ave|   Yourcity|          GA|         78901|dc8da3bef6a74b542...|\n",
      "|                8|           Sarah|       Anderson|sarahanderson@ema...|    555-5432|   901 Pine St|   Heretown|          OH|         56789|040a8daf34580442c...|\n",
      "|                9|     Christopher|         Taylor|christophertaylor...|    555-8765|    234 Oak Ln|   Thistown|          PA|         12345|9f1a5e7d23ec6c6fc...|\n",
      "|               11|           Grace|         Turner|graceturner@email...|    555-1122|    567 Oak St|   Cityview|          CA|         98765|1660312ac56197c3c...|\n",
      "|               12|          Connor|          Evans|connorevans@email...|    555-2233|  890 Pine Ave| Townsville|          TX|         54321|27a598d862504d69d...|\n",
      "+-----------------+----------------+---------------+--------------------+------------+--------------+-----------+------------+--------------+--------------------+\n",
      "\n"
     ]
    }
   ],
   "source": [
    "customers_source_df_hash.show()"
   ]
  },
  {
   "cell_type": "code",
   "execution_count": 210,
   "id": "8f9f2bc6",
   "metadata": {},
   "outputs": [],
   "source": [
    "merged_df = active_customers_target_df_hash.join(customers_source_df_hash, col(\"customerid_source\") ==  col(\"customerid_target\") , \"full_outer\") \\\n",
    ".withColumn(\"Action\", when(col(\"hash_md5_source\") == col(\"hash_md5_target\")  , 'NOCHANGE')\\\n",
    ".when(col(\"customerid_source\").isNull(), 'DELETE')\\\n",
    ".when(col(\"customerid_target\").isNull(), 'INSERT')\\\n",
    ".otherwise('UPDATE'))"
   ]
  },
  {
   "cell_type": "code",
   "execution_count": 211,
   "id": "beb79a75",
   "metadata": {},
   "outputs": [
    {
     "name": "stdout",
     "output_type": "stream",
     "text": [
      "+-----------------+----------------+---------------+--------------------+------------+--------------+-----------+------------+--------------+--------------------+---------------------+---------------+------------------+--------------------+-----------------+----------------+---------------+--------------------+------------+--------------+-----------+------------+--------------+--------------------+--------+\n",
      "|customerid_target|firstname_target|lastname_target|        email_target|phone_target|address_target|city_target|state_target|zipcode_target|customer_skey_target|effective_date_target|end_date_target|active_flag_target|     hash_md5_target|customerid_source|firstname_source|lastname_source|        email_source|phone_source|address_source|city_source|state_source|zipcode_source|     hash_md5_source|  Action|\n",
      "+-----------------+----------------+---------------+--------------------+------------+--------------+-----------+------------+--------------+--------------------+---------------------+---------------+------------------+--------------------+-----------------+----------------+---------------+--------------------+------------+--------------+-----------+------------+--------------+--------------------+--------+\n",
      "|                7|           David|          Jones|davidjones@email.com|    555-2345| 678 Maple Ave|   Yourcity|          GA|         78901|                   7|           2024-02-13|     9999-12-31|              true|dc8da3bef6a74b542...|                7|           David|          Jones|davidjones@email.com|    555-2345| 678 Maple Ave|   Yourcity|          GA|         78901|dc8da3bef6a74b542...|NOCHANGE|\n",
      "|                6|           Emily|         Miller|emilymiller@email...|    555-6543|  890 Birch Rd|    Newcity|          WA|         23456|                   6|           2024-02-13|     9999-12-31|              true|feecf783e7bb08532...|                6|           Emily|         Miller|emilymiller@email...|    555-6543|  890 Birch Rd|    Newcity|          WA|         23456|feecf783e7bb08532...|NOCHANGE|\n",
      "|                9|     Christopher|         Taylor|christophertaylor...|    555-8765|    234 Oak Ln|   Thistown|          PA|         12345|                   9|           2024-02-13|     9999-12-31|              true|9f1a5e7d23ec6c6fc...|                9|     Christopher|         Taylor|christophertaylor...|    555-8765|    234 Oak Ln|   Thistown|          PA|         12345|9f1a5e7d23ec6c6fc...|NOCHANGE|\n",
      "|                5|         Michael|          Brown|michaelbrown@emai...|    555-9876|  567 Elm Blvd|  Theirtown|          IL|         45678|                   5|           2024-02-13|     9999-12-31|              true|7f42a2317bdd347da...|                5|         Michael|          Brown|michaelbrown@emai...|    555-9876|  567 Elm Blvd|  Theirtown|          IL|         45678|7f42a2317bdd347da...|NOCHANGE|\n",
      "|                1|            John|            Doe|   johndoe@email.com|    555-1234|   123 Main St|    Anytown|          CA|         12345|                   1|           2024-02-13|     9999-12-31|              true|31ddb0d8a5baa88cc...|                1|            John|            Doe|   johndoe@gmail.com|    555-1234|   123 Main St|    Anytown|          CA|         12345|8db85f2fdc7c5c1e4...|  UPDATE|\n",
      "|               10|          Olivia|          Clark|oliviaclark@email...|    555-3456| 567 Cedar Ave|   Thatcity|          TN|         67890|                  10|           2024-02-13|     9999-12-31|              true|c0e41364b85d0729f...|             null|            null|           null|                null|        null|          null|       null|        null|          null|                null|  DELETE|\n",
      "|                3|          Robert|        Johnson|robertjohnson@ema...|    555-8765|   789 Pine Ln|  Othercity|          TX|         34567|                   3|           2024-02-13|     9999-12-31|              true|42617f9cd36cd4217...|                3|          Robert|        Johnson|robertjohnson@ema...|    555-8765|    123 Elm Ln| Harborcity|          FL|         87654|e194f30cc658c18bf...|  UPDATE|\n",
      "|             null|            null|           null|                null|        null|          null|       null|        null|          null|                null|                 null|           null|              null|                null|               12|          Connor|          Evans|connorevans@email...|    555-2233|  890 Pine Ave| Townsville|          TX|         54321|27a598d862504d69d...|  INSERT|\n",
      "|                8|           Sarah|       Anderson|sarahanderson@ema...|    555-5432|   901 Pine St|   Heretown|          OH|         56789|                   8|           2024-02-13|     9999-12-31|              true|040a8daf34580442c...|                8|           Sarah|       Anderson|sarahanderson@ema...|    555-5432|   901 Pine St|   Heretown|          OH|         56789|040a8daf34580442c...|NOCHANGE|\n",
      "|             null|            null|           null|                null|        null|          null|       null|        null|          null|                null|                 null|           null|              null|                null|               11|           Grace|         Turner|graceturner@email...|    555-1122|    567 Oak St|   Cityview|          CA|         98765|1660312ac56197c3c...|  INSERT|\n",
      "|                2|            Jane|          Smith| janesmith@email.com|    555-5678|   456 Oak Ave|   Sometown|          NY|         67890|                   2|           2024-02-13|     9999-12-31|              true|b1604de584bc896a6...|                2|            Jane|          Smith| janesmith@email.com|    555-5679|   456 Oak Ave|   Sometown|          NY|         67890|4b77ad952717438be...|  UPDATE|\n",
      "|                4|           Alice|       Williams|alicewilliams@ema...|    555-4321|  234 Cedar Dr|   Yourtown|          FL|         89012|                   4|           2024-02-13|     9999-12-31|              true|0ade7a14143c23d4a...|                4|           Alice|       Williams|alicewilliams@ema...|    555-4321|  234 Cedar Dr|   Yourtown|          FL|         89012|0ade7a14143c23d4a...|NOCHANGE|\n",
      "+-----------------+----------------+---------------+--------------------+------------+--------------+-----------+------------+--------------+--------------------+---------------------+---------------+------------------+--------------------+-----------------+----------------+---------------+--------------------+------------+--------------+-----------+------------+--------------+--------------------+--------+\n",
      "\n"
     ]
    }
   ],
   "source": [
    "merged_df.show()"
   ]
  },
  {
   "cell_type": "code",
   "execution_count": 212,
   "id": "8c1d4236",
   "metadata": {},
   "outputs": [],
   "source": [
    "unchanged_records = column_renamer(merged_df.filter(col(\"action\") == 'NOCHANGE'), suffix=\"_target\", append=False).select(active_customers_target_df.columns)"
   ]
  },
  {
   "cell_type": "code",
   "execution_count": 213,
   "id": "6d8edb9a",
   "metadata": {},
   "outputs": [
    {
     "name": "stdout",
     "output_type": "stream",
     "text": [
      "+----------+-----------+--------+--------------------+--------+-------------+---------+-----+-------+-------------+--------------+----------+-----------+\n",
      "|customerid|  firstname|lastname|               email|   phone|      address|     city|state|zipcode|customer_skey|effective_date|  end_date|active_flag|\n",
      "+----------+-----------+--------+--------------------+--------+-------------+---------+-----+-------+-------------+--------------+----------+-----------+\n",
      "|         7|      David|   Jones|davidjones@email.com|555-2345|678 Maple Ave| Yourcity|   GA|  78901|            7|    2024-02-13|9999-12-31|       true|\n",
      "|         6|      Emily|  Miller|emilymiller@email...|555-6543| 890 Birch Rd|  Newcity|   WA|  23456|            6|    2024-02-13|9999-12-31|       true|\n",
      "|         9|Christopher|  Taylor|christophertaylor...|555-8765|   234 Oak Ln| Thistown|   PA|  12345|            9|    2024-02-13|9999-12-31|       true|\n",
      "|         5|    Michael|   Brown|michaelbrown@emai...|555-9876| 567 Elm Blvd|Theirtown|   IL|  45678|            5|    2024-02-13|9999-12-31|       true|\n",
      "|         8|      Sarah|Anderson|sarahanderson@ema...|555-5432|  901 Pine St| Heretown|   OH|  56789|            8|    2024-02-13|9999-12-31|       true|\n",
      "|         4|      Alice|Williams|alicewilliams@ema...|555-4321| 234 Cedar Dr| Yourtown|   FL|  89012|            4|    2024-02-13|9999-12-31|       true|\n",
      "+----------+-----------+--------+--------------------+--------+-------------+---------+-----+-------+-------------+--------------+----------+-----------+\n",
      "\n"
     ]
    }
   ],
   "source": [
    "unchanged_records.show()"
   ]
  },
  {
   "cell_type": "code",
   "execution_count": 216,
   "id": "c06d22d7",
   "metadata": {},
   "outputs": [
    {
     "name": "stdout",
     "output_type": "stream",
     "text": [
      "+----------+---------+--------+--------------------+--------+------------+----------+-----+-------+-------------+--------------+----------+-----------+\n",
      "|customerid|firstname|lastname|               email|   phone|     address|      city|state|zipcode|customer_skey|effective_date|  end_date|active_flag|\n",
      "+----------+---------+--------+--------------------+--------+------------+----------+-----+-------+-------------+--------------+----------+-----------+\n",
      "|        11|    Grace|  Turner|graceturner@email...|555-1122|  567 Oak St|  Cityview|   CA|  98765|           11|    2024-02-13|9999-12-31|       true|\n",
      "|        12|   Connor|   Evans|connorevans@email...|555-2233|890 Pine Ave|Townsville|   TX|  54321|           12|    2024-02-13|9999-12-31|       true|\n",
      "+----------+---------+--------+--------------------+--------+------------+----------+-----+-------+-------------+--------------+----------+-----------+\n",
      "\n"
     ]
    }
   ],
   "source": [
    "insert_records = column_renamer(merged_df.filter(col(\"action\") == 'INSERT'), suffix=\"_source\", append=False) \\\n",
    "                .select(customers_source_df.columns)\\\n",
    "                .withColumn(\"row_number\",row_number().over(window_def))\\\n",
    "                .withColumn(\"customer_skey\",col(\"row_number\")+ max_sk)\\\n",
    "                .withColumn(\"effective_date\",date_format(current_date(),DATE_FORMAT))\\\n",
    "                .withColumn(\"end_date\",date_format(lit(future_date),DATE_FORMAT))\\\n",
    "                .withColumn(\"active_flag\", lit(True))\\\n",
    "                .drop(\"row_number\")\n",
    "\n",
    "insert_records.show()"
   ]
  },
  {
   "cell_type": "code",
   "execution_count": 217,
   "id": "3cea9490",
   "metadata": {},
   "outputs": [],
   "source": [
    "max_sk = insert_records.agg({\"customer_skey\": \"max\"}).collect()[0][0]"
   ]
  },
  {
   "cell_type": "code",
   "execution_count": 218,
   "id": "2f1333db",
   "metadata": {},
   "outputs": [
    {
     "name": "stdout",
     "output_type": "stream",
     "text": [
      "12\n"
     ]
    }
   ],
   "source": [
    "print(max_sk)"
   ]
  },
  {
   "cell_type": "code",
   "execution_count": 219,
   "id": "e4282c5c",
   "metadata": {},
   "outputs": [],
   "source": [
    "update_records = column_renamer(merged_df.filter(col(\"action\") == 'UPDATE'), suffix=\"_target\", append=False)\\\n",
    "                .select(active_customers_target_df.columns)\\\n",
    "                .withColumn(\"end_date\", date_format(current_date(),DATE_FORMAT))\\\n",
    "                .withColumn(\"active_flag\", lit(False))\\\n",
    "            .unionByName(\n",
    "            column_renamer(merged_df.filter(col(\"action\") == 'UPDATE'), suffix=\"_source\", append=False)\\\n",
    "                .select(customers_source_df.columns)\\\n",
    "                .withColumn(\"effective_date\",date_format(current_date(),DATE_FORMAT))\\\n",
    "                .withColumn(\"end_date\",date_format(lit(future_date),DATE_FORMAT))\\\n",
    "                .withColumn(\"row_number\",row_number().over(window_def))\\\n",
    "                .withColumn(\"customer_skey\",col(\"row_number\")+ max_sk)\\\n",
    "                .withColumn(\"active_flag\", lit(True))\\\n",
    "                .drop(\"row_number\")\n",
    "                )\n"
   ]
  },
  {
   "cell_type": "code",
   "execution_count": 220,
   "id": "06b605cc",
   "metadata": {},
   "outputs": [
    {
     "name": "stdout",
     "output_type": "stream",
     "text": [
      "+----------+---------+--------+--------------------+--------+-----------+----------+-----+-------+-------------+--------------+----------+-----------+\n",
      "|customerid|firstname|lastname|               email|   phone|    address|      city|state|zipcode|customer_skey|effective_date|  end_date|active_flag|\n",
      "+----------+---------+--------+--------------------+--------+-----------+----------+-----+-------+-------------+--------------+----------+-----------+\n",
      "|         1|     John|     Doe|   johndoe@email.com|555-1234|123 Main St|   Anytown|   CA|  12345|            1|    2024-02-13|2024-02-13|      false|\n",
      "|         3|   Robert| Johnson|robertjohnson@ema...|555-8765|789 Pine Ln| Othercity|   TX|  34567|            3|    2024-02-13|2024-02-13|      false|\n",
      "|         2|     Jane|   Smith| janesmith@email.com|555-5678|456 Oak Ave|  Sometown|   NY|  67890|            2|    2024-02-13|2024-02-13|      false|\n",
      "|         1|     John|     Doe|   johndoe@gmail.com|555-1234|123 Main St|   Anytown|   CA|  12345|           13|    2024-02-13|9999-12-31|       true|\n",
      "|         2|     Jane|   Smith| janesmith@email.com|555-5679|456 Oak Ave|  Sometown|   NY|  67890|           14|    2024-02-13|9999-12-31|       true|\n",
      "|         3|   Robert| Johnson|robertjohnson@ema...|555-8765| 123 Elm Ln|Harborcity|   FL|  87654|           15|    2024-02-13|9999-12-31|       true|\n",
      "+----------+---------+--------+--------------------+--------+-----------+----------+-----+-------+-------------+--------------+----------+-----------+\n",
      "\n"
     ]
    }
   ],
   "source": [
    "update_records.show()"
   ]
  },
  {
   "cell_type": "code",
   "execution_count": 221,
   "id": "89cc5a10",
   "metadata": {},
   "outputs": [],
   "source": [
    "max_sk = update_records.agg({\"customer_skey\": \"max\"}).collect()[0][0]"
   ]
  },
  {
   "cell_type": "code",
   "execution_count": 222,
   "id": "17226598",
   "metadata": {},
   "outputs": [
    {
     "name": "stdout",
     "output_type": "stream",
     "text": [
      "15\n"
     ]
    }
   ],
   "source": [
    "print(max_sk)"
   ]
  },
  {
   "cell_type": "code",
   "execution_count": 223,
   "id": "0e4cb067",
   "metadata": {},
   "outputs": [
    {
     "name": "stdout",
     "output_type": "stream",
     "text": [
      "+----------+---------+--------+--------------------+--------+-------------+--------+-----+-------+-------------+--------------+----------+-----------+\n",
      "|customerid|firstname|lastname|               email|   phone|      address|    city|state|zipcode|customer_skey|effective_date|  end_date|active_flag|\n",
      "+----------+---------+--------+--------------------+--------+-------------+--------+-----+-------+-------------+--------------+----------+-----------+\n",
      "|        10|   Olivia|   Clark|oliviaclark@email...|555-3456|567 Cedar Ave|Thatcity|   TN|  67890|           10|    2024-02-13|2024-02-13|      false|\n",
      "+----------+---------+--------+--------------------+--------+-------------+--------+-----+-------+-------------+--------------+----------+-----------+\n",
      "\n"
     ]
    }
   ],
   "source": [
    "delete_records = column_renamer(merged_df.filter(col(\"action\") == 'DELETE'), suffix=\"_target\", append=False)\\\n",
    "                .select(active_customers_target_df.columns)\\\n",
    "                .withColumn(\"end_date\", date_format(current_date(),DATE_FORMAT))\\\n",
    "                .withColumn(\"active_flag\", lit(False))\n",
    "\n",
    "delete_records.show()"
   ]
  },
  {
   "cell_type": "code",
   "execution_count": 224,
   "id": "f1cd8ed8",
   "metadata": {},
   "outputs": [
    {
     "name": "stdout",
     "output_type": "stream",
     "text": [
      "+----------+-----------+--------+--------------------+--------+-------------+----------+-----+-------+-------------+--------------+----------+-----------+\n",
      "|customerid|  firstname|lastname|               email|   phone|      address|      city|state|zipcode|customer_skey|effective_date|  end_date|active_flag|\n",
      "+----------+-----------+--------+--------------------+--------+-------------+----------+-----+-------+-------------+--------------+----------+-----------+\n",
      "|         7|      David|   Jones|davidjones@email.com|555-2345|678 Maple Ave|  Yourcity|   GA|  78901|            7|    2024-02-13|9999-12-31|       true|\n",
      "|         6|      Emily|  Miller|emilymiller@email...|555-6543| 890 Birch Rd|   Newcity|   WA|  23456|            6|    2024-02-13|9999-12-31|       true|\n",
      "|         9|Christopher|  Taylor|christophertaylor...|555-8765|   234 Oak Ln|  Thistown|   PA|  12345|            9|    2024-02-13|9999-12-31|       true|\n",
      "|         5|    Michael|   Brown|michaelbrown@emai...|555-9876| 567 Elm Blvd| Theirtown|   IL|  45678|            5|    2024-02-13|9999-12-31|       true|\n",
      "|         8|      Sarah|Anderson|sarahanderson@ema...|555-5432|  901 Pine St|  Heretown|   OH|  56789|            8|    2024-02-13|9999-12-31|       true|\n",
      "|         4|      Alice|Williams|alicewilliams@ema...|555-4321| 234 Cedar Dr|  Yourtown|   FL|  89012|            4|    2024-02-13|9999-12-31|       true|\n",
      "|        11|      Grace|  Turner|graceturner@email...|555-1122|   567 Oak St|  Cityview|   CA|  98765|           11|    2024-02-13|9999-12-31|       true|\n",
      "|        12|     Connor|   Evans|connorevans@email...|555-2233| 890 Pine Ave|Townsville|   TX|  54321|           12|    2024-02-13|9999-12-31|       true|\n",
      "|         1|       John|     Doe|   johndoe@email.com|555-1234|  123 Main St|   Anytown|   CA|  12345|            1|    2024-02-13|2024-02-13|      false|\n",
      "|         3|     Robert| Johnson|robertjohnson@ema...|555-8765|  789 Pine Ln| Othercity|   TX|  34567|            3|    2024-02-13|2024-02-13|      false|\n",
      "|         2|       Jane|   Smith| janesmith@email.com|555-5678|  456 Oak Ave|  Sometown|   NY|  67890|            2|    2024-02-13|2024-02-13|      false|\n",
      "|         1|       John|     Doe|   johndoe@gmail.com|555-1234|  123 Main St|   Anytown|   CA|  12345|           13|    2024-02-13|9999-12-31|       true|\n",
      "|         2|       Jane|   Smith| janesmith@email.com|555-5679|  456 Oak Ave|  Sometown|   NY|  67890|           14|    2024-02-13|9999-12-31|       true|\n",
      "|         3|     Robert| Johnson|robertjohnson@ema...|555-8765|   123 Elm Ln|Harborcity|   FL|  87654|           15|    2024-02-13|9999-12-31|       true|\n",
      "|        10|     Olivia|   Clark|oliviaclark@email...|555-3456|567 Cedar Ave|  Thatcity|   TN|  67890|           10|    2024-02-13|2024-02-13|      false|\n",
      "+----------+-----------+--------+--------------------+--------+-------------+----------+-----+-------+-------------+--------------+----------+-----------+\n",
      "\n"
     ]
    }
   ],
   "source": [
    "resultant_df = inactive_customers_target_df \\\n",
    "            .unionByName(unchanged_records)\\\n",
    "            .unionByName(insert_records)\\\n",
    "            .unionByName(update_records)\\\n",
    "            .unionByName(delete_records)\n",
    "\n",
    "resultant_df.show()"
   ]
  },
  {
   "cell_type": "code",
   "execution_count": 186,
   "id": "23bcb2b2",
   "metadata": {},
   "outputs": [],
   "source": [
    "spark.stop()"
   ]
  },
  {
   "cell_type": "code",
   "execution_count": null,
   "id": "dcbb432f",
   "metadata": {},
   "outputs": [],
   "source": []
  }
 ],
 "metadata": {
  "kernelspec": {
   "display_name": "Python 3",
   "language": "python",
   "name": "python3"
  },
  "language_info": {
   "codemirror_mode": {
    "name": "ipython",
    "version": 3
   },
   "file_extension": ".py",
   "mimetype": "text/x-python",
   "name": "python",
   "nbconvert_exporter": "python",
   "pygments_lexer": "ipython3",
   "version": "3.10.6"
  }
 },
 "nbformat": 4,
 "nbformat_minor": 5
}
